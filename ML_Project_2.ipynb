{
  "cells": [
    {
      "cell_type": "code",
      "source": [
        "from google.colab import drive\n",
        "drive.mount('/content/gdrive/')"
      ],
      "metadata": {
        "colab": {
          "base_uri": "https://localhost:8080/"
        },
        "id": "gnjv4Fd-0r9S",
        "outputId": "76191b81-9b70-4502-a4b1-f395086fabfa"
      },
      "id": "gnjv4Fd-0r9S",
      "execution_count": 3,
      "outputs": [
        {
          "output_type": "stream",
          "name": "stdout",
          "text": [
            "Mounted at /content/gdrive/\n"
          ]
        }
      ]
    },
    {
      "cell_type": "code",
      "source": [
        "%cd '/content/gdrive/Othercomputers/My MacBook Pro (1)/project2/'"
      ],
      "metadata": {
        "colab": {
          "base_uri": "https://localhost:8080/"
        },
        "id": "S-s8pWlJ1WmV",
        "outputId": "2dcc97b8-f5a9-479e-f2ba-af65b06d91a4"
      },
      "id": "S-s8pWlJ1WmV",
      "execution_count": 4,
      "outputs": [
        {
          "output_type": "stream",
          "name": "stdout",
          "text": [
            "/content/gdrive/Othercomputers/My MacBook Pro (1)/project2\n"
          ]
        }
      ]
    },
    {
      "cell_type": "code",
      "execution_count": 5,
      "metadata": {
        "colab": {
          "base_uri": "https://localhost:8080/"
        },
        "id": "rCdEECOejIa5",
        "outputId": "66f35e65-ca3e-454b-e2f5-9f1bb6937cc8"
      },
      "outputs": [
        {
          "output_type": "stream",
          "name": "stdout",
          "text": [
            "Looking in indexes: https://pypi.org/simple, https://us-python.pkg.dev/colab-wheels/public/simple/\n",
            "Collecting mlrose_hiive\n",
            "  Downloading mlrose_hiive-2.2.4.tar.gz (49 kB)\n",
            "\u001b[K     |████████████████████████████████| 49 kB 4.7 MB/s \n",
            "\u001b[?25hRequirement already satisfied: numpy in /usr/local/lib/python3.7/dist-packages (from mlrose_hiive) (1.21.6)\n",
            "Requirement already satisfied: scipy in /usr/local/lib/python3.7/dist-packages (from mlrose_hiive) (1.7.3)\n",
            "Requirement already satisfied: scikit-learn in /usr/local/lib/python3.7/dist-packages (from mlrose_hiive) (1.0.2)\n",
            "Requirement already satisfied: pandas in /usr/local/lib/python3.7/dist-packages (from mlrose_hiive) (1.3.5)\n",
            "Requirement already satisfied: networkx in /usr/local/lib/python3.7/dist-packages (from mlrose_hiive) (2.6.3)\n",
            "Requirement already satisfied: joblib in /usr/local/lib/python3.7/dist-packages (from mlrose_hiive) (1.2.0)\n",
            "Requirement already satisfied: python-dateutil>=2.7.3 in /usr/local/lib/python3.7/dist-packages (from pandas->mlrose_hiive) (2.8.2)\n",
            "Requirement already satisfied: pytz>=2017.3 in /usr/local/lib/python3.7/dist-packages (from pandas->mlrose_hiive) (2022.4)\n",
            "Requirement already satisfied: six>=1.5 in /usr/local/lib/python3.7/dist-packages (from python-dateutil>=2.7.3->pandas->mlrose_hiive) (1.15.0)\n",
            "Requirement already satisfied: threadpoolctl>=2.0.0 in /usr/local/lib/python3.7/dist-packages (from scikit-learn->mlrose_hiive) (3.1.0)\n",
            "Building wheels for collected packages: mlrose-hiive\n",
            "  Building wheel for mlrose-hiive (setup.py) ... \u001b[?25l\u001b[?25hdone\n",
            "  Created wheel for mlrose-hiive: filename=mlrose_hiive-2.2.4-py3-none-any.whl size=98351 sha256=e812d96efee39218f6266f25076387ab1121a2fbf19477af0a3b959c452d04b3\n",
            "  Stored in directory: /root/.cache/pip/wheels/ca/9c/44/36113054dda94da67040173c2a475dbfb6980c2c6ddf5747b1\n",
            "Successfully built mlrose-hiive\n",
            "Installing collected packages: mlrose-hiive\n",
            "Successfully installed mlrose-hiive-2.2.4\n"
          ]
        }
      ],
      "source": [
        "%pip install mlrose_hiive"
      ],
      "id": "rCdEECOejIa5"
    },
    {
      "cell_type": "code",
      "execution_count": 16,
      "metadata": {
        "id": "048bee31"
      },
      "outputs": [],
      "source": [
        "import mlrose_hiive as mlrose\n",
        "import numpy as np\n",
        "import time\n",
        "from math import factorial\n",
        "import matplotlib.pyplot as plt\n",
        "import seaborn as sns\n",
        "from scipy import special"
      ],
      "id": "048bee31"
    },
    {
      "cell_type": "code",
      "execution_count": 17,
      "metadata": {
        "id": "BRmTBUYjkIkZ",
        "colab": {
          "base_uri": "https://localhost:8080/"
        },
        "outputId": "9dc45729-357f-4f26-a476-8fc51dbb74b9"
      },
      "outputs": [
        {
          "output_type": "execute_result",
          "data": {
            "text/plain": [
              "496.0"
            ]
          },
          "metadata": {},
          "execution_count": 17
        }
      ],
      "source": [
        "def comb(n, k):\n",
        "    return special.comb(n, k)\n",
        "comb(32,2)"
      ],
      "id": "BRmTBUYjkIkZ"
    },
    {
      "cell_type": "code",
      "source": [
        "def solve_prob2(n,algo,prob,seed=123456,verbose=True,args=None):\n",
        "    np.random.seed(seed)\n",
        "\n",
        "    if prob == 'queens':\n",
        "        fitness = mlrose.CustomFitness(queens_max)\n",
        "        max_q = comb(n,2)\n",
        "        bits = n\n",
        "    elif prob == '4peaks':\n",
        "        t_pct = 0.10\n",
        "        fitness = mlrose.FourPeaks(t_pct=t_pct)\n",
        "        max_q = four_peaks_optima(n, t_pct)\n",
        "        bits = 2\n",
        "    elif prob == 'flipflop':\n",
        "        fitness = mlrose.FlipFlop()\n",
        "        bits = 2\n",
        "        max_q = n-1\n",
        "        \n",
        "\n",
        "    if algo == 'rhc':\n",
        "        fn = mlrose.random_hill_climb\n",
        "        params = {\n",
        "                  'max_attempts':10,\n",
        "                  'init_state':np.random.randint(bits,size=n),\n",
        "                 'curve':True,\n",
        "                  'restarts':0}     \n",
        "        best_overall_fitness = fitness.evaluate(params['init_state'])\n",
        "        best_fitness = best_overall_fitness\n",
        "    elif algo == 'anneal':\n",
        "        fn = mlrose.simulated_annealing\n",
        "        params = {'schedule':mlrose.GeomDecay(init_temp=1),\n",
        "                  'init_state':np.random.randint(bits,size=n),\n",
        "                 'curve':True,\n",
        "                  'max_attempts':100}\n",
        "        best_overall_fitness = fitness.evaluate(params['init_state'])    \n",
        "    elif algo == 'ga':\n",
        "        fn = mlrose.genetic_alg\n",
        "        best_overall_fitness = 0\n",
        "        params = {\n",
        "                 'curve':True,\n",
        "                 'pop_size':200} \n",
        "    elif algo == 'mimic':\n",
        "        fn = mlrose.mimic\n",
        "        best_overall_fitness = 0\n",
        "        params = {'curve':True, 'max_iters':np.inf, 'pop_size':200,'max_attempts':10} \n",
        "    \n",
        "    if args is not None:\n",
        "      params = args\n",
        "    \n",
        "    problem = mlrose.DiscreteOpt(length = n, fitness_fn = fitness, maximize = True, max_val = bits)\n",
        "    \n",
        "    results={}\n",
        "\n",
        "    # Define initial state\n",
        "    if verbose:\n",
        "      print(\"Bitstring:\", n, \"Stopping point fitness:\", max_q)\n",
        "\n",
        "    # Use random restarts\n",
        "    curve = np.ndarray((0,2))\n",
        "    start_time = time.perf_counter()\n",
        "    if algo == 'rhc':\n",
        "      # Use random restarts\n",
        "      ct = -1\n",
        "      curve = np.ndarray((0,2))\n",
        "      start_time = time.perf_counter()\n",
        "      while best_overall_fitness < max_q:\n",
        "          ct +=1\n",
        "          # Solve problem using simulated annealing\n",
        "          best_state, best_fitness, fitness_curve = fn(problem, **params)\n",
        "          if best_fitness > best_overall_fitness:\n",
        "              best_overall_fitness = best_fitness\n",
        "              if verbose:\n",
        "                print(\"New optimal:\", best_overall_fitness)\n",
        "          if (algo in ['rhc','anneal']) or (ct == 0):\n",
        "            curve = np.append(curve,fitness_curve,axis=0)\n",
        "          else:\n",
        "            fitness_curve[:,1] = curve[-1,1] + fitness_curve[:,1]\n",
        "            curve = np.append(curve,fitness_curve,axis=0)\n",
        "          if algo in ['rhc','anneal']:\n",
        "            params['init_state'] = np.random.randint(bits,size=n)\n",
        "      results['restarts'] = ct\n",
        "    else:\n",
        "      # Solve problem using simulated annealing\n",
        "      best_state, best_fitness, fitness_curve = fn(problem, **params)\n",
        " \n",
        "    if best_fitness == max_q:\n",
        "        print(algo,\"SUCCESS\", best_fitness)\n",
        "    else:\n",
        "      print(algo,\"FAIL\", best_fitness)\n",
        "\n",
        "    total_time = time.perf_counter() - start_time\n",
        "    \n",
        "    results['time'] = total_time\n",
        "    results['evals'] = fitness_curve[-1][1]\n",
        "    results['curve'] = fitness_curve\n",
        "    \n",
        "    return results"
      ],
      "metadata": {
        "id": "SBDnCk3nFwES"
      },
      "id": "SBDnCk3nFwES",
      "execution_count": 18,
      "outputs": []
    },
    {
      "cell_type": "code",
      "execution_count": 22,
      "metadata": {
        "id": "x6MPyzx_F-u8"
      },
      "outputs": [],
      "source": [
        "def solve_prob(n,algo,prob,seed=123456,verbose=True,args=None):\n",
        "    np.random.seed(seed)\n",
        "\n",
        "    if prob == 'queens':\n",
        "        fitness = mlrose.CustomFitness(queens_max)\n",
        "        max_q = comb(n,2)\n",
        "        bits = n\n",
        "    elif prob == '4peaks':\n",
        "        t_pct = 0.10\n",
        "        fitness = mlrose.FourPeaks(t_pct=t_pct)\n",
        "        max_q = four_peaks_optima(n, t_pct)\n",
        "        bits = 2\n",
        "    elif prob == 'flipflop':\n",
        "        fitness = mlrose.FlipFlop()\n",
        "        bits = 2\n",
        "        max_q = n-1\n",
        "        \n",
        "\n",
        "    if algo == 'rhc':\n",
        "        fn = mlrose.random_hill_climb\n",
        "        params = {\n",
        "                  'max_attempts':10,\n",
        "                  'init_state':np.random.randint(bits,size=n),\n",
        "                 'curve':True,\n",
        "                  'restarts':0}     \n",
        "        best_overall_fitness = fitness.evaluate(params['init_state'])\n",
        "        best_fitness = best_overall_fitness\n",
        "    elif algo == 'anneal':\n",
        "        fn = mlrose.simulated_annealing\n",
        "        params = {'schedule':mlrose.GeomDecay(init_temp=1),\n",
        "                  'init_state':np.random.randint(bits,size=n),\n",
        "                 'curve':True,\n",
        "                  'max_attempts':100}\n",
        "        best_overall_fitness = fitness.evaluate(params['init_state'])    \n",
        "    elif algo == 'ga':\n",
        "        fn = mlrose.genetic_alg\n",
        "        best_overall_fitness = 0\n",
        "        params = {\n",
        "                 'curve':True,\n",
        "                 'pop_size':200} \n",
        "    elif algo == 'mimic':\n",
        "        fn = mlrose.mimic\n",
        "        best_overall_fitness = 0\n",
        "        params = {'curve':True, 'max_iters':np.inf, 'pop_size':200,'max_attempts':10} \n",
        "    \n",
        "    if args is not None:\n",
        "      params = args\n",
        "    \n",
        "    problem = mlrose.DiscreteOpt(length = n, fitness_fn = fitness, maximize = True, max_val = bits)\n",
        "    \n",
        "    results={}\n",
        "\n",
        "    # Define initial state\n",
        "    if verbose:\n",
        "      print(\"Bitstring:\", n, \"Stopping point fitness:\", max_q)\n",
        "\n",
        "    # Use random restarts\n",
        "    curve = np.ndarray((0,2))\n",
        "    start_time = time.perf_counter()\n",
        "    best_state, best_fitness, fitness_curve = fn(problem, **params)\n",
        "    total_time = time.perf_counter() - start_time\n",
        "    \n",
        "    if best_fitness == max_q:\n",
        "        print(algo,\"SUCCESS\", best_fitness)\n",
        "    else:\n",
        "      print(algo,\"FAIL\", best_fitness)\n",
        "\n",
        "\n",
        "    results['time'] = total_time\n",
        "    results['evals'] = fitness_curve[-1][1]\n",
        "    results['curve'] = fitness_curve\n",
        "    \n",
        "    return results"
      ],
      "id": "x6MPyzx_F-u8"
    },
    {
      "cell_type": "markdown",
      "metadata": {
        "id": "3161090b"
      },
      "source": [
        "# N-queens"
      ],
      "id": "3161090b"
    },
    {
      "cell_type": "code",
      "execution_count": 19,
      "metadata": {
        "id": "2ae021f8"
      },
      "outputs": [],
      "source": [
        "# Define alternative N-Queens fitness function for maximization problem\n",
        "def queens_max(state):\n",
        "\n",
        "   # Initialize counter\n",
        "    fitness_cnt = 0\n",
        "\n",
        "          # For all pairs of queens\n",
        "    for i in range(len(state) - 1):\n",
        "        for j in range(i + 1, len(state)):\n",
        "\n",
        "            # Check for horizontal, diagonal-up and diagonal-down attacks\n",
        "            if (state[j] != state[i]) \\\n",
        "                and (state[j] != state[i] + (j - i)) \\\n",
        "                and (state[j] != state[i] - (j - i)):\n",
        "\n",
        "               # If no attacks, then increment counter\n",
        "               fitness_cnt += 1\n",
        "\n",
        "    return fitness_cnt\n",
        "\n",
        "# Initialize custom fitness function object\n",
        "fitness = mlrose.CustomFitness(queens_max)\n",
        "fitness_min = mlrose.Queens()\n",
        "\n"
      ],
      "id": "2ae021f8"
    },
    {
      "cell_type": "code",
      "source": [
        "queen_results = {}\n",
        "for algo in ['mimic']:\n",
        "  queen_results[algo] = {}\n"
      ],
      "metadata": {
        "id": "p2-KmsVZIvO8"
      },
      "id": "p2-KmsVZIvO8",
      "execution_count": 26,
      "outputs": []
    },
    {
      "cell_type": "code",
      "execution_count": 118,
      "metadata": {
        "colab": {
          "base_uri": "https://localhost:8080/",
          "height": 416
        },
        "id": "46be7999",
        "scrolled": false,
        "outputId": "39a8ab4e-60c2-4229-d7c7-8af6d8d79b6a"
      },
      "outputs": [
        {
          "output_type": "stream",
          "name": "stdout",
          "text": [
            "mimic\n",
            "Bitstring: 20 Stopping point fitness: 190.0\n"
          ]
        },
        {
          "output_type": "error",
          "ename": "KeyboardInterrupt",
          "evalue": "ignored",
          "traceback": [
            "\u001b[0;31m---------------------------------------------------------------------------\u001b[0m",
            "\u001b[0;31mKeyboardInterrupt\u001b[0m                         Traceback (most recent call last)",
            "\u001b[0;32m<ipython-input-118-1f0eac5822ab>\u001b[0m in \u001b[0;36m<module>\u001b[0;34m\u001b[0m\n\u001b[1;32m     22\u001b[0m                        \u001b[0;34m'max_attempts'\u001b[0m\u001b[0;34m:\u001b[0m\u001b[0;36m500\u001b[0m\u001b[0;34m,\u001b[0m\u001b[0;34m\u001b[0m\u001b[0;34m\u001b[0m\u001b[0m\n\u001b[1;32m     23\u001b[0m                        'keep_pct':0.2}}\n\u001b[0;32m---> 24\u001b[0;31m     \u001b[0mqueen_results\u001b[0m\u001b[0;34m[\u001b[0m\u001b[0malgo\u001b[0m\u001b[0;34m]\u001b[0m\u001b[0;34m[\u001b[0m\u001b[0mn\u001b[0m\u001b[0;34m]\u001b[0m \u001b[0;34m=\u001b[0m \u001b[0msolve_prob\u001b[0m\u001b[0;34m(\u001b[0m\u001b[0mn\u001b[0m\u001b[0;34m,\u001b[0m\u001b[0malgo\u001b[0m\u001b[0;34m,\u001b[0m\u001b[0;34m'queens'\u001b[0m\u001b[0;34m,\u001b[0m\u001b[0margs\u001b[0m\u001b[0;34m=\u001b[0m\u001b[0mparams\u001b[0m\u001b[0;34m[\u001b[0m\u001b[0malgo\u001b[0m\u001b[0;34m]\u001b[0m\u001b[0;34m)\u001b[0m\u001b[0;34m\u001b[0m\u001b[0;34m\u001b[0m\u001b[0m\n\u001b[0m\u001b[1;32m     25\u001b[0m \u001b[0;34m\u001b[0m\u001b[0m\n\u001b[1;32m     26\u001b[0m \u001b[0mprint\u001b[0m\u001b[0;34m(\u001b[0m\u001b[0;34m\"complete\"\u001b[0m\u001b[0;34m)\u001b[0m\u001b[0;34m\u001b[0m\u001b[0;34m\u001b[0m\u001b[0m\n",
            "\u001b[0;32m<ipython-input-22-b345d08a0c5c>\u001b[0m in \u001b[0;36msolve_prob\u001b[0;34m(n, algo, prob, seed, verbose, args)\u001b[0m\n\u001b[1;32m     58\u001b[0m     \u001b[0mcurve\u001b[0m \u001b[0;34m=\u001b[0m \u001b[0mnp\u001b[0m\u001b[0;34m.\u001b[0m\u001b[0mndarray\u001b[0m\u001b[0;34m(\u001b[0m\u001b[0;34m(\u001b[0m\u001b[0;36m0\u001b[0m\u001b[0;34m,\u001b[0m\u001b[0;36m2\u001b[0m\u001b[0;34m)\u001b[0m\u001b[0;34m)\u001b[0m\u001b[0;34m\u001b[0m\u001b[0;34m\u001b[0m\u001b[0m\n\u001b[1;32m     59\u001b[0m     \u001b[0mstart_time\u001b[0m \u001b[0;34m=\u001b[0m \u001b[0mtime\u001b[0m\u001b[0;34m.\u001b[0m\u001b[0mperf_counter\u001b[0m\u001b[0;34m(\u001b[0m\u001b[0;34m)\u001b[0m\u001b[0;34m\u001b[0m\u001b[0;34m\u001b[0m\u001b[0m\n\u001b[0;32m---> 60\u001b[0;31m     \u001b[0mbest_state\u001b[0m\u001b[0;34m,\u001b[0m \u001b[0mbest_fitness\u001b[0m\u001b[0;34m,\u001b[0m \u001b[0mfitness_curve\u001b[0m \u001b[0;34m=\u001b[0m \u001b[0mfn\u001b[0m\u001b[0;34m(\u001b[0m\u001b[0mproblem\u001b[0m\u001b[0;34m,\u001b[0m \u001b[0;34m**\u001b[0m\u001b[0mparams\u001b[0m\u001b[0;34m)\u001b[0m\u001b[0;34m\u001b[0m\u001b[0;34m\u001b[0m\u001b[0m\n\u001b[0m\u001b[1;32m     61\u001b[0m     \u001b[0mtotal_time\u001b[0m \u001b[0;34m=\u001b[0m \u001b[0mtime\u001b[0m\u001b[0;34m.\u001b[0m\u001b[0mperf_counter\u001b[0m\u001b[0;34m(\u001b[0m\u001b[0;34m)\u001b[0m \u001b[0;34m-\u001b[0m \u001b[0mstart_time\u001b[0m\u001b[0;34m\u001b[0m\u001b[0;34m\u001b[0m\u001b[0m\n\u001b[1;32m     62\u001b[0m \u001b[0;34m\u001b[0m\u001b[0m\n",
            "\u001b[0;32m/usr/local/lib/python3.7/dist-packages/mlrose_hiive/algorithms/mimic.py\u001b[0m in \u001b[0;36mmimic\u001b[0;34m(problem, pop_size, keep_pct, max_attempts, max_iters, curve, random_state, state_fitness_callback, callback_user_info, noise)\u001b[0m\n\u001b[1;32m    121\u001b[0m         \u001b[0;31m# Generate new sample\u001b[0m\u001b[0;34m\u001b[0m\u001b[0;34m\u001b[0m\u001b[0;34m\u001b[0m\u001b[0m\n\u001b[1;32m    122\u001b[0m         \u001b[0mnew_sample\u001b[0m \u001b[0;34m=\u001b[0m \u001b[0mproblem\u001b[0m\u001b[0;34m.\u001b[0m\u001b[0msample_pop\u001b[0m\u001b[0;34m(\u001b[0m\u001b[0mpop_size\u001b[0m\u001b[0;34m)\u001b[0m\u001b[0;34m\u001b[0m\u001b[0;34m\u001b[0m\u001b[0m\n\u001b[0;32m--> 123\u001b[0;31m         \u001b[0mproblem\u001b[0m\u001b[0;34m.\u001b[0m\u001b[0mset_population\u001b[0m\u001b[0;34m(\u001b[0m\u001b[0mnew_sample\u001b[0m\u001b[0;34m)\u001b[0m\u001b[0;34m\u001b[0m\u001b[0;34m\u001b[0m\u001b[0m\n\u001b[0m\u001b[1;32m    124\u001b[0m \u001b[0;34m\u001b[0m\u001b[0m\n\u001b[1;32m    125\u001b[0m         \u001b[0mnext_state\u001b[0m \u001b[0;34m=\u001b[0m \u001b[0mproblem\u001b[0m\u001b[0;34m.\u001b[0m\u001b[0mbest_child\u001b[0m\u001b[0;34m(\u001b[0m\u001b[0;34m)\u001b[0m\u001b[0;34m\u001b[0m\u001b[0;34m\u001b[0m\u001b[0m\n",
            "\u001b[0;32m/usr/local/lib/python3.7/dist-packages/mlrose_hiive/opt_probs/_opt_prob.py\u001b[0m in \u001b[0;36mset_population\u001b[0;34m(self, new_population)\u001b[0m\n\u001b[1;32m    212\u001b[0m         \"\"\"\n\u001b[1;32m    213\u001b[0m         \u001b[0mself\u001b[0m\u001b[0;34m.\u001b[0m\u001b[0mpopulation\u001b[0m \u001b[0;34m=\u001b[0m \u001b[0mnew_population\u001b[0m\u001b[0;34m\u001b[0m\u001b[0;34m\u001b[0m\u001b[0m\n\u001b[0;32m--> 214\u001b[0;31m         \u001b[0mself\u001b[0m\u001b[0;34m.\u001b[0m\u001b[0mevaluate_population_fitness\u001b[0m\u001b[0;34m(\u001b[0m\u001b[0;34m)\u001b[0m\u001b[0;34m\u001b[0m\u001b[0;34m\u001b[0m\u001b[0m\n\u001b[0m\u001b[1;32m    215\u001b[0m \u001b[0;34m\u001b[0m\u001b[0m\n\u001b[1;32m    216\u001b[0m     \u001b[0;32mdef\u001b[0m \u001b[0mevaluate_population_fitness\u001b[0m\u001b[0;34m(\u001b[0m\u001b[0mself\u001b[0m\u001b[0;34m)\u001b[0m\u001b[0;34m:\u001b[0m\u001b[0;34m\u001b[0m\u001b[0;34m\u001b[0m\u001b[0m\n",
            "\u001b[0;32m/usr/local/lib/python3.7/dist-packages/mlrose_hiive/opt_probs/_opt_prob.py\u001b[0m in \u001b[0;36mevaluate_population_fitness\u001b[0;34m(self)\u001b[0m\n\u001b[1;32m    219\u001b[0m \u001b[0;34m\u001b[0m\u001b[0m\n\u001b[1;32m    220\u001b[0m         \u001b[0;32mfor\u001b[0m \u001b[0mi\u001b[0m \u001b[0;32min\u001b[0m \u001b[0mrange\u001b[0m\u001b[0;34m(\u001b[0m\u001b[0mlen\u001b[0m\u001b[0;34m(\u001b[0m\u001b[0mself\u001b[0m\u001b[0;34m.\u001b[0m\u001b[0mpopulation\u001b[0m\u001b[0;34m)\u001b[0m\u001b[0;34m)\u001b[0m\u001b[0;34m:\u001b[0m\u001b[0;34m\u001b[0m\u001b[0;34m\u001b[0m\u001b[0m\n\u001b[0;32m--> 221\u001b[0;31m             \u001b[0mfitness\u001b[0m \u001b[0;34m=\u001b[0m \u001b[0mself\u001b[0m\u001b[0;34m.\u001b[0m\u001b[0meval_fitness\u001b[0m\u001b[0;34m(\u001b[0m\u001b[0mself\u001b[0m\u001b[0;34m.\u001b[0m\u001b[0mpopulation\u001b[0m\u001b[0;34m[\u001b[0m\u001b[0mi\u001b[0m\u001b[0;34m]\u001b[0m\u001b[0;34m)\u001b[0m\u001b[0;34m\u001b[0m\u001b[0;34m\u001b[0m\u001b[0m\n\u001b[0m\u001b[1;32m    222\u001b[0m             \u001b[0mpop_fitness\u001b[0m\u001b[0;34m.\u001b[0m\u001b[0mappend\u001b[0m\u001b[0;34m(\u001b[0m\u001b[0mfitness\u001b[0m\u001b[0;34m)\u001b[0m\u001b[0;34m\u001b[0m\u001b[0;34m\u001b[0m\u001b[0m\n\u001b[1;32m    223\u001b[0m \u001b[0;34m\u001b[0m\u001b[0m\n",
            "\u001b[0;32m/usr/local/lib/python3.7/dist-packages/mlrose_hiive/opt_probs/_opt_prob.py\u001b[0m in \u001b[0;36meval_fitness\u001b[0;34m(self, state)\u001b[0m\n\u001b[1;32m     96\u001b[0m             \u001b[0;32mraise\u001b[0m \u001b[0mException\u001b[0m\u001b[0;34m(\u001b[0m\u001b[0;34m\"state length must match problem length\"\u001b[0m\u001b[0;34m)\u001b[0m\u001b[0;34m\u001b[0m\u001b[0;34m\u001b[0m\u001b[0m\n\u001b[1;32m     97\u001b[0m \u001b[0;34m\u001b[0m\u001b[0m\n\u001b[0;32m---> 98\u001b[0;31m         \u001b[0mfitness\u001b[0m \u001b[0;34m=\u001b[0m \u001b[0mself\u001b[0m\u001b[0;34m.\u001b[0m\u001b[0mmaximize\u001b[0m\u001b[0;34m*\u001b[0m\u001b[0mself\u001b[0m\u001b[0;34m.\u001b[0m\u001b[0mfitness_fn\u001b[0m\u001b[0;34m.\u001b[0m\u001b[0mevaluate\u001b[0m\u001b[0;34m(\u001b[0m\u001b[0mstate\u001b[0m\u001b[0;34m)\u001b[0m\u001b[0;34m\u001b[0m\u001b[0;34m\u001b[0m\u001b[0m\n\u001b[0m\u001b[1;32m     99\u001b[0m         \u001b[0;31m# increment fevals for the current iteration\u001b[0m\u001b[0;34m\u001b[0m\u001b[0;34m\u001b[0m\u001b[0;34m\u001b[0m\u001b[0m\n\u001b[1;32m    100\u001b[0m         \u001b[0mself\u001b[0m\u001b[0;34m.\u001b[0m\u001b[0mfitness_evaluations\u001b[0m \u001b[0;34m+=\u001b[0m \u001b[0;36m1\u001b[0m\u001b[0;34m\u001b[0m\u001b[0;34m\u001b[0m\u001b[0m\n",
            "\u001b[0;32m/usr/local/lib/python3.7/dist-packages/mlrose_hiive/fitness/custom_fitness.py\u001b[0m in \u001b[0;36mevaluate\u001b[0;34m(self, state)\u001b[0m\n\u001b[1;32m     60\u001b[0m         \"\"\"\n\u001b[1;32m     61\u001b[0m \u001b[0;34m\u001b[0m\u001b[0m\n\u001b[0;32m---> 62\u001b[0;31m         \u001b[0mfitness\u001b[0m \u001b[0;34m=\u001b[0m \u001b[0mself\u001b[0m\u001b[0;34m.\u001b[0m\u001b[0mfitness_fn\u001b[0m\u001b[0;34m(\u001b[0m\u001b[0mstate\u001b[0m\u001b[0;34m,\u001b[0m \u001b[0;34m**\u001b[0m\u001b[0mself\u001b[0m\u001b[0;34m.\u001b[0m\u001b[0mkwargs\u001b[0m\u001b[0;34m)\u001b[0m\u001b[0;34m\u001b[0m\u001b[0;34m\u001b[0m\u001b[0m\n\u001b[0m\u001b[1;32m     63\u001b[0m         \u001b[0;32mreturn\u001b[0m \u001b[0mfitness\u001b[0m\u001b[0;34m\u001b[0m\u001b[0;34m\u001b[0m\u001b[0m\n\u001b[1;32m     64\u001b[0m \u001b[0;34m\u001b[0m\u001b[0m\n",
            "\u001b[0;32m<ipython-input-19-117d3d2bf33e>\u001b[0m in \u001b[0;36mqueens_max\u001b[0;34m(state)\u001b[0m\n\u001b[1;32m     12\u001b[0m             \u001b[0;32mif\u001b[0m \u001b[0;34m(\u001b[0m\u001b[0mstate\u001b[0m\u001b[0;34m[\u001b[0m\u001b[0mj\u001b[0m\u001b[0;34m]\u001b[0m \u001b[0;34m!=\u001b[0m \u001b[0mstate\u001b[0m\u001b[0;34m[\u001b[0m\u001b[0mi\u001b[0m\u001b[0;34m]\u001b[0m\u001b[0;34m)\u001b[0m\u001b[0;31m \u001b[0m\u001b[0;31m\\\u001b[0m\u001b[0;34m\u001b[0m\u001b[0;34m\u001b[0m\u001b[0m\n\u001b[1;32m     13\u001b[0m                 \u001b[0;32mand\u001b[0m \u001b[0;34m(\u001b[0m\u001b[0mstate\u001b[0m\u001b[0;34m[\u001b[0m\u001b[0mj\u001b[0m\u001b[0;34m]\u001b[0m \u001b[0;34m!=\u001b[0m \u001b[0mstate\u001b[0m\u001b[0;34m[\u001b[0m\u001b[0mi\u001b[0m\u001b[0;34m]\u001b[0m \u001b[0;34m+\u001b[0m \u001b[0;34m(\u001b[0m\u001b[0mj\u001b[0m \u001b[0;34m-\u001b[0m \u001b[0mi\u001b[0m\u001b[0;34m)\u001b[0m\u001b[0;34m)\u001b[0m\u001b[0;31m \u001b[0m\u001b[0;31m\\\u001b[0m\u001b[0;34m\u001b[0m\u001b[0;34m\u001b[0m\u001b[0m\n\u001b[0;32m---> 14\u001b[0;31m                 \u001b[0;32mand\u001b[0m \u001b[0;34m(\u001b[0m\u001b[0mstate\u001b[0m\u001b[0;34m[\u001b[0m\u001b[0mj\u001b[0m\u001b[0;34m]\u001b[0m \u001b[0;34m!=\u001b[0m \u001b[0mstate\u001b[0m\u001b[0;34m[\u001b[0m\u001b[0mi\u001b[0m\u001b[0;34m]\u001b[0m \u001b[0;34m-\u001b[0m \u001b[0;34m(\u001b[0m\u001b[0mj\u001b[0m \u001b[0;34m-\u001b[0m \u001b[0mi\u001b[0m\u001b[0;34m)\u001b[0m\u001b[0;34m)\u001b[0m\u001b[0;34m:\u001b[0m\u001b[0;34m\u001b[0m\u001b[0;34m\u001b[0m\u001b[0m\n\u001b[0m\u001b[1;32m     15\u001b[0m \u001b[0;34m\u001b[0m\u001b[0m\n\u001b[1;32m     16\u001b[0m                \u001b[0;31m# If no attacks, then increment counter\u001b[0m\u001b[0;34m\u001b[0m\u001b[0;34m\u001b[0m\u001b[0;34m\u001b[0m\u001b[0m\n",
            "\u001b[0;31mKeyboardInterrupt\u001b[0m: "
          ]
        }
      ],
      "source": [
        "## Big problem to find best result\n",
        "N = list(range(5,20,5))\n",
        "N = [20]\n",
        "for algo in ['mimic']:\n",
        "  print(algo)\n",
        "  for n in N:\n",
        "    bits=n\n",
        "    params = {'rhc':{'max_attempts':100,\n",
        "                  'init_state':np.random.randint(bits,size=n),\n",
        "                  'curve':True,\n",
        "                  'restarts':1000},\n",
        "              'anneal': {'schedule':mlrose.GeomDecay(init_temp=100),\n",
        "                         'init_state':np.random.randint(bits,size=n),\n",
        "                         'curve':True,\n",
        "                         'max_attempts':500},\n",
        "              'ga':{'curve':True,\n",
        "                    'pop_size':800,\n",
        "                    'max_attempts':500,\n",
        "                    'mutation_prob':0.2} ,\n",
        "              'mimic':{'curve':True,\n",
        "                       'pop_size':10000,\n",
        "                       'max_attempts':500,\n",
        "                       'keep_pct':0.2}}\n",
        "    queen_results[algo][n] = solve_prob(n,algo,'queens',args=params[algo])\n",
        "\n",
        "print(\"complete\")"
      ],
      "id": "46be7999"
    },
    {
      "cell_type": "markdown",
      "metadata": {
        "id": "f05f5ccf"
      },
      "source": [
        "## Plot curves"
      ],
      "id": "f05f5ccf"
    },
    {
      "cell_type": "code",
      "source": [
        "import math"
      ],
      "metadata": {
        "id": "2xs1e7Dz4P1D"
      },
      "id": "2xs1e7Dz4P1D",
      "execution_count": 108,
      "outputs": []
    },
    {
      "cell_type": "code",
      "source": [
        "## Learning curves\n",
        "N = list(queen_results['rhc'].keys())\n",
        "N.sort()\n",
        "max_n = max(N)\n",
        "curves = {}\n",
        "for algo in ['rhc','anneal','ga','mimic']:\n",
        "  curves[algo] = {'x':[], 'y':[]}\n",
        "  for n in N:\n",
        "    curves[algo]['x'].append(n)\n",
        "    curves[algo]['y'].append(math.log(queen_results[algo][n]['evals'],10))\n",
        "    \n",
        "fig, ax = plt.subplots()\n",
        "ax.set_xlabel('Number of Queens')\n",
        "ax.set_ylabel('Evaluations Required (log 10 scale)')\n",
        "ax.set_title(\"Evaluations vs Number of Queens\")\n",
        "ax.plot(curves['rhc']['x'],curves['rhc']['y'], marker=\"o\", label=\"RHC\")\n",
        "ax.plot(curves['anneal']['x'],curves['anneal']['y'], marker=\"o\",label=\"SA\")\n",
        "ax.plot(curves['ga']['x'],curves['ga']['y'], marker=\"o\",label=\"GA\")\n",
        "ax.plot(curves['mimic']['x'],curves['mimic']['y'], marker=\"o\",label=\"MIMIC\")\n",
        "ax.legend()\n",
        "plt.savefig('./paper/figures/n_queens_evals.png', format='png', transparent=True)\n",
        "\n"
      ],
      "metadata": {
        "colab": {
          "base_uri": "https://localhost:8080/",
          "height": 295
        },
        "id": "BfHKWFm5xQNk",
        "outputId": "c025c018-74ea-4d92-aee7-0ba0e5ea4cf4"
      },
      "id": "BfHKWFm5xQNk",
      "execution_count": 115,
      "outputs": [
        {
          "output_type": "display_data",
          "data": {
            "text/plain": [
              "<Figure size 432x288 with 1 Axes>"
            ],
            "image/png": "[encoded data removed]"
          },
          "metadata": {
            "needs_background": "light"
          }
        }
      ]
    },
    {
      "cell_type": "code",
      "execution_count": 116,
      "metadata": {
        "id": "0d581a95",
        "colab": {
          "base_uri": "https://localhost:8080/",
          "height": 295
        },
        "outputId": "e505f1a8-dec4-44b1-b546-6242a6948caa"
      },
      "outputs": [
        {
          "output_type": "display_data",
          "data": {
            "text/plain": [
              "<Figure size 432x288 with 1 Axes>"
            ],
            "image/png": "[encoded data removed]"
          },
          "metadata": {
            "needs_background": "light"
          }
        }
      ],
      "source": [
        "\n",
        "## Learning curves\n",
        "\n",
        "N = list(queen_results['rhc'].keys())\n",
        "N.sort()\n",
        "curves = {}\n",
        "for algo in ['rhc','anneal','ga','mimic']:\n",
        "  curves[algo] = {'x':[], 'y':[]}\n",
        "  for n in N:\n",
        "    curves[algo]['x'].append(n)\n",
        "    curves[algo]['y'].append(queen_results[algo][n]['time'])\n",
        "    \n",
        "fig, ax = plt.subplots()\n",
        "ax.set_xlabel('Number of Queens')\n",
        "ax.set_ylabel('Time in Seconds')\n",
        "ax.set_title(\"Wall Clock Time vs Number of Queens\")\n",
        "ax.plot(curves['rhc']['x'],curves['rhc']['y'], marker=\"o\",label=\"RHC\")\n",
        "ax.plot(curves['anneal']['x'],curves['anneal']['y'], marker=\"o\",label=\"SA\")\n",
        "ax.plot(curves['ga']['x'],curves['ga']['y'], marker=\"o\",label=\"GA\")\n",
        "ax.plot(curves['mimic']['x'],curves['mimic']['y'], marker=\"o\",label=\"MIMIC\")\n",
        "ax.legend()\n",
        "plt.savefig('./paper/figures/n_queens_time.png', format='png', transparent=True)\n",
        "\n"
      ],
      "id": "0d581a95"
    },
    {
      "cell_type": "code",
      "source": [],
      "metadata": {
        "id": "tL9STlHFkN-S"
      },
      "id": "tL9STlHFkN-S",
      "execution_count": null,
      "outputs": []
    },
    {
      "cell_type": "code",
      "source": [
        "## Learning curves\n",
        "\n",
        "max_n = 20\n",
        "\n",
        "curves = {}\n",
        "for algo in ['rhc','anneal','ga','mimic']:\n",
        "  curves[algo] = {'x':list(range(0,queen_results[algo][max_n]['curve'].shape[0])),\n",
        "                   'y':np.maximum.accumulate(queen_results[algo][max_n]['curve'][:,0]),}\n",
        "\n",
        "fig, ax = plt.subplots()\n",
        "ax.set_xlabel('Iterations')\n",
        "ax.set_ylabel('Best Value')\n",
        "ax.set_title(\"Optimal Value vs Iterations: \" + str(max_n) + \" Queens\")\n",
        "ax.plot(curves['rhc']['x'],curves['rhc']['y'], label=\"RHC\")\n",
        "ax.plot(curves['anneal']['x'],curves['anneal']['y'], label=\"anneal\")\n",
        "ax.plot(curves['ga']['x'],curves['ga']['y'], label=\"ga\")\n",
        "ax.plot(curves['mimic']['x'],curves['mimic']['y'], label=\"mimic\")\n",
        "ax.legend()\n",
        "plt.savefig('./paper/figures/n_queens_learning.png', format='png', transparent=True)\n"
      ],
      "metadata": {
        "colab": {
          "base_uri": "https://localhost:8080/",
          "height": 295
        },
        "id": "mdteauvEkRYU",
        "outputId": "3966b15b-4866-4ed7-fe02-b9446b5bde09"
      },
      "id": "mdteauvEkRYU",
      "execution_count": 96,
      "outputs": [
        {
          "output_type": "display_data",
          "data": {
            "text/plain": [
              "<Figure size 432x288 with 1 Axes>"
            ],
            "image/png": "[encoded data removed]"
          },
          "metadata": {
            "needs_background": "light"
          }
        }
      ]
    },
    {
      "cell_type": "markdown",
      "metadata": {
        "id": "28ad3e63"
      },
      "source": [
        "## Highlight Simulated Annealing"
      ],
      "id": "28ad3e63"
    },
    {
      "cell_type": "code",
      "source": [],
      "metadata": {
        "colab": {
          "base_uri": "https://localhost:8080/"
        },
        "id": "RqLXG5Xc_MsY",
        "outputId": "8e1b7b47-e7a9-4d09-970c-f90cdf9805a2"
      },
      "id": "RqLXG5Xc_MsY",
      "execution_count": 233,
      "outputs": [
        {
          "output_type": "execute_result",
          "data": {
            "text/plain": [
              "2"
            ]
          },
          "metadata": {},
          "execution_count": 233
        }
      ]
    },
    {
      "cell_type": "code",
      "source": [
        "results = {}\n",
        "decays = {'geom':mlrose.GeomDecay(100), 'exp':mlrose.ExpDecay(100)}\n",
        "for decay, fn in decays.items():\n",
        "  results[decay] = {}"
      ],
      "metadata": {
        "id": "uiF5QnbKAWGy"
      },
      "id": "uiF5QnbKAWGy",
      "execution_count": 142,
      "outputs": []
    },
    {
      "cell_type": "code",
      "execution_count": 148,
      "metadata": {
        "id": "29593c48",
        "colab": {
          "base_uri": "https://localhost:8080/"
        },
        "outputId": "a83b81f2-1fca-4529-8a41-f6157b58c0e8"
      },
      "outputs": [
        {
          "output_type": "stream",
          "name": "stdout",
          "text": [
            "anneal geom\n",
            "Bitstring: 10 Stopping point fitness: 45.0\n",
            "anneal SUCCESS 45.0\n",
            "Bitstring: 20 Stopping point fitness: 190.0\n",
            "anneal SUCCESS 190.0\n",
            "Bitstring: 30 Stopping point fitness: 435.0\n",
            "anneal SUCCESS 435.0\n",
            "Bitstring: 40 Stopping point fitness: 780.0\n",
            "anneal SUCCESS 780.0\n",
            "Bitstring: 50 Stopping point fitness: 1225.0\n",
            "anneal SUCCESS 1225.0\n",
            "Bitstring: 60 Stopping point fitness: 1770.0\n",
            "anneal SUCCESS 1770.0\n",
            "Bitstring: 70 Stopping point fitness: 2415.0\n",
            "anneal SUCCESS 2415.0\n",
            "Bitstring: 80 Stopping point fitness: 3160.0\n",
            "anneal SUCCESS 3160.0\n",
            "anneal exp\n",
            "Bitstring: 10 Stopping point fitness: 45.0\n",
            "anneal SUCCESS 45.0\n",
            "Bitstring: 20 Stopping point fitness: 190.0\n",
            "anneal SUCCESS 190.0\n",
            "Bitstring: 30 Stopping point fitness: 435.0\n",
            "anneal SUCCESS 435.0\n",
            "Bitstring: 40 Stopping point fitness: 780.0\n",
            "anneal SUCCESS 780.0\n",
            "Bitstring: 50 Stopping point fitness: 1225.0\n",
            "anneal SUCCESS 1225.0\n",
            "Bitstring: 60 Stopping point fitness: 1770.0\n",
            "anneal SUCCESS 1770.0\n",
            "Bitstring: 70 Stopping point fitness: 2415.0\n",
            "anneal SUCCESS 2415.0\n",
            "Bitstring: 80 Stopping point fitness: 3160.0\n",
            "anneal SUCCESS 3160.0\n",
            "complete\n"
          ]
        }
      ],
      "source": [
        "N = list(range(10,110,10))\n",
        "\n",
        "decays = {'geom':mlrose.GeomDecay(100), 'exp':mlrose.ExpDecay(100)}\n",
        "N = list(range(90,110,10))\n",
        "for decay, fn in decays.items():\n",
        "  for algo in ['anneal']:\n",
        "    print(algo, decay)\n",
        "    for n in N:\n",
        "      bits=n\n",
        "      np.random.seed(123456)\n",
        "      params = {'anneal': {'schedule':fn,\n",
        "                          'init_state':np.random.randint(bits,size=n),\n",
        "                          'curve':True,\n",
        "                          'max_attempts':n*50}}\n",
        "      results[decay][n] = solve_prob(n,algo,'queens',args=params[algo])\n",
        "print(\"complete\")"
      ],
      "id": "29593c48"
    },
    {
      "cell_type": "code",
      "source": [
        "results"
      ],
      "metadata": {
        "colab": {
          "base_uri": "https://localhost:8080/"
        },
        "id": "WSAxW0_bJWuV",
        "outputId": "8c791678-0748-4ebc-87de-838e143ce469"
      },
      "id": "WSAxW0_bJWuV",
      "execution_count": 150,
      "outputs": [
        {
          "output_type": "execute_result",
          "data": {
            "text/plain": [
              "{'geom': {10: {'time': 0.23007398099798593,\n",
              "   'evals': 4168.0,\n",
              "   'curve': array([[3.100e+01, 3.000e+00],\n",
              "          [3.100e+01, 5.000e+00],\n",
              "          [2.900e+01, 7.000e+00],\n",
              "          ...,\n",
              "          [4.500e+01, 4.166e+03],\n",
              "          [4.500e+01, 4.167e+03],\n",
              "          [4.500e+01, 4.168e+03]])},\n",
              "  20: {'time': 0.7077133930033597,\n",
              "   'evals': 3967.0,\n",
              "   'curve': array([[1.640e+02, 3.000e+00],\n",
              "          [1.660e+02, 5.000e+00],\n",
              "          [1.660e+02, 7.000e+00],\n",
              "          ...,\n",
              "          [1.900e+02, 3.965e+03],\n",
              "          [1.900e+02, 3.966e+03],\n",
              "          [1.900e+02, 3.967e+03]])},\n",
              "  30: {'time': 2.2159369949986285,\n",
              "   'evals': 5706.0,\n",
              "   'curve': array([[4.020e+02, 3.000e+00],\n",
              "          [4.010e+02, 5.000e+00],\n",
              "          [4.030e+02, 7.000e+00],\n",
              "          ...,\n",
              "          [4.350e+02, 5.704e+03],\n",
              "          [4.350e+02, 5.705e+03],\n",
              "          [4.350e+02, 5.706e+03]])},\n",
              "  40: {'time': 3.6761156089996803,\n",
              "   'evals': 5422.0,\n",
              "   'curve': array([[7.310e+02, 3.000e+00],\n",
              "          [7.290e+02, 5.000e+00],\n",
              "          [7.320e+02, 7.000e+00],\n",
              "          ...,\n",
              "          [7.800e+02, 5.420e+03],\n",
              "          [7.800e+02, 5.421e+03],\n",
              "          [7.800e+02, 5.422e+03]])},\n",
              "  50: {'time': 39.198893205000786,\n",
              "   'evals': 37854.0,\n",
              "   'curve': array([[1.1730e+03, 2.0000e+00],\n",
              "          [1.1730e+03, 4.0000e+00],\n",
              "          [1.1730e+03, 6.0000e+00],\n",
              "          ...,\n",
              "          [1.2250e+03, 3.7852e+04],\n",
              "          [1.2250e+03, 3.7853e+04],\n",
              "          [1.2250e+03, 3.7854e+04]])},\n",
              "  60: {'time': 24.303106627001398,\n",
              "   'evals': 16522.0,\n",
              "   'curve': array([[1.7150e+03, 3.0000e+00],\n",
              "          [1.7160e+03, 5.0000e+00],\n",
              "          [1.7180e+03, 7.0000e+00],\n",
              "          ...,\n",
              "          [1.7700e+03, 1.6520e+04],\n",
              "          [1.7700e+03, 1.6521e+04],\n",
              "          [1.7700e+03, 1.6522e+04]])},\n",
              "  70: {'time': 36.892269133997615,\n",
              "   'evals': 18530.0,\n",
              "   'curve': array([[2.3300e+03, 3.0000e+00],\n",
              "          [2.3290e+03, 5.0000e+00],\n",
              "          [2.3300e+03, 7.0000e+00],\n",
              "          ...,\n",
              "          [2.4150e+03, 1.8528e+04],\n",
              "          [2.4150e+03, 1.8529e+04],\n",
              "          [2.4150e+03, 1.8530e+04]])},\n",
              "  80: {'time': 310.14469893099886,\n",
              "   'evals': 119824.0,\n",
              "   'curve': array([[3.07400e+03, 3.00000e+00],\n",
              "          [3.07100e+03, 5.00000e+00],\n",
              "          [3.07500e+03, 7.00000e+00],\n",
              "          ...,\n",
              "          [3.16000e+03, 1.19822e+05],\n",
              "          [3.16000e+03, 1.19823e+05],\n",
              "          [3.16000e+03, 1.19824e+05]])}},\n",
              " 'exp': {10: {'time': 0.16700640299677616,\n",
              "   'evals': 3224.0,\n",
              "   'curve': array([[3.100e+01, 3.000e+00],\n",
              "          [3.100e+01, 5.000e+00],\n",
              "          [2.900e+01, 7.000e+00],\n",
              "          ...,\n",
              "          [4.500e+01, 3.222e+03],\n",
              "          [4.500e+01, 3.223e+03],\n",
              "          [4.500e+01, 3.224e+03]])},\n",
              "  20: {'time': 1.2170112220010196,\n",
              "   'evals': 6818.0,\n",
              "   'curve': array([[1.640e+02, 3.000e+00],\n",
              "          [1.660e+02, 5.000e+00],\n",
              "          [1.660e+02, 7.000e+00],\n",
              "          ...,\n",
              "          [1.900e+02, 6.816e+03],\n",
              "          [1.900e+02, 6.817e+03],\n",
              "          [1.900e+02, 6.818e+03]])},\n",
              "  30: {'time': 5.075034719000541,\n",
              "   'evals': 13035.0,\n",
              "   'curve': array([[4.0200e+02, 3.0000e+00],\n",
              "          [4.0100e+02, 5.0000e+00],\n",
              "          [4.0300e+02, 7.0000e+00],\n",
              "          ...,\n",
              "          [4.3500e+02, 1.3033e+04],\n",
              "          [4.3500e+02, 1.3034e+04],\n",
              "          [4.3500e+02, 1.3035e+04]])},\n",
              "  40: {'time': 14.391494850999152,\n",
              "   'evals': 21336.0,\n",
              "   'curve': array([[7.3100e+02, 3.0000e+00],\n",
              "          [7.2900e+02, 5.0000e+00],\n",
              "          [7.3200e+02, 7.0000e+00],\n",
              "          ...,\n",
              "          [7.8000e+02, 2.1334e+04],\n",
              "          [7.8000e+02, 2.1335e+04],\n",
              "          [7.8000e+02, 2.1336e+04]])},\n",
              "  50: {'time': 13.965704058999108,\n",
              "   'evals': 13422.0,\n",
              "   'curve': array([[1.1730e+03, 2.0000e+00],\n",
              "          [1.1730e+03, 4.0000e+00],\n",
              "          [1.1730e+03, 6.0000e+00],\n",
              "          ...,\n",
              "          [1.2250e+03, 1.3420e+04],\n",
              "          [1.2250e+03, 1.3421e+04],\n",
              "          [1.2250e+03, 1.3422e+04]])},\n",
              "  60: {'time': 60.298057538999274,\n",
              "   'evals': 40578.0,\n",
              "   'curve': array([[1.7150e+03, 3.0000e+00],\n",
              "          [1.7160e+03, 5.0000e+00],\n",
              "          [1.7180e+03, 7.0000e+00],\n",
              "          ...,\n",
              "          [1.7700e+03, 4.0576e+04],\n",
              "          [1.7700e+03, 4.0577e+04],\n",
              "          [1.7700e+03, 4.0578e+04]])},\n",
              "  70: {'time': 138.69746427799691,\n",
              "   'evals': 69439.0,\n",
              "   'curve': array([[2.3300e+03, 3.0000e+00],\n",
              "          [2.3290e+03, 5.0000e+00],\n",
              "          [2.3300e+03, 7.0000e+00],\n",
              "          ...,\n",
              "          [2.4150e+03, 6.9437e+04],\n",
              "          [2.4150e+03, 6.9438e+04],\n",
              "          [2.4150e+03, 6.9439e+04]])},\n",
              "  80: {'time': 115.07097845200042,\n",
              "   'evals': 44337.0,\n",
              "   'curve': array([[3.0740e+03, 3.0000e+00],\n",
              "          [3.0710e+03, 5.0000e+00],\n",
              "          [3.0750e+03, 7.0000e+00],\n",
              "          ...,\n",
              "          [3.1600e+03, 4.4335e+04],\n",
              "          [3.1600e+03, 4.4336e+04],\n",
              "          [3.1600e+03, 4.4337e+04]])}}}"
            ]
          },
          "metadata": {},
          "execution_count": 150
        }
      ]
    },
    {
      "cell_type": "code",
      "execution_count": 139,
      "metadata": {
        "id": "b8cfed4c",
        "colab": {
          "base_uri": "https://localhost:8080/",
          "height": 357
        },
        "outputId": "be407f93-d0f0-408e-b27b-9074c5ae89fa"
      },
      "outputs": [
        {
          "output_type": "error",
          "ename": "KeyError",
          "evalue": "ignored",
          "traceback": [
            "\u001b[0;31m---------------------------------------------------------------------------\u001b[0m",
            "\u001b[0;31mKeyError\u001b[0m                                  Traceback (most recent call last)",
            "\u001b[0;32m<ipython-input-139-931783263ad4>\u001b[0m in \u001b[0;36m<module>\u001b[0;34m\u001b[0m\n\u001b[0;32m----> 1\u001b[0;31m \u001b[0mt_geom\u001b[0m \u001b[0;34m=\u001b[0m \u001b[0;34m[\u001b[0m\u001b[0mresults\u001b[0m\u001b[0;34m[\u001b[0m\u001b[0;34m'geom'\u001b[0m\u001b[0;34m]\u001b[0m\u001b[0;34m[\u001b[0m\u001b[0mt\u001b[0m\u001b[0;34m]\u001b[0m\u001b[0;34m[\u001b[0m\u001b[0;34m'restarts'\u001b[0m\u001b[0;34m]\u001b[0m \u001b[0;32mfor\u001b[0m \u001b[0mt\u001b[0m \u001b[0;32min\u001b[0m \u001b[0mN\u001b[0m\u001b[0;34m]\u001b[0m\u001b[0;34m\u001b[0m\u001b[0;34m\u001b[0m\u001b[0m\n\u001b[0m\u001b[1;32m      2\u001b[0m \u001b[0;31m#t_arith = [results['arith'][t]['restarts'] for t in N]\u001b[0m\u001b[0;34m\u001b[0m\u001b[0;34m\u001b[0m\u001b[0;34m\u001b[0m\u001b[0m\n\u001b[1;32m      3\u001b[0m \u001b[0mt_exp\u001b[0m \u001b[0;34m=\u001b[0m \u001b[0;34m[\u001b[0m\u001b[0mresults\u001b[0m\u001b[0;34m[\u001b[0m\u001b[0;34m'exp'\u001b[0m\u001b[0;34m]\u001b[0m\u001b[0;34m[\u001b[0m\u001b[0mt\u001b[0m\u001b[0;34m]\u001b[0m\u001b[0;34m[\u001b[0m\u001b[0;34m'restarts'\u001b[0m\u001b[0;34m]\u001b[0m \u001b[0;32mfor\u001b[0m \u001b[0mt\u001b[0m \u001b[0;32min\u001b[0m \u001b[0mN\u001b[0m\u001b[0;34m]\u001b[0m\u001b[0;34m\u001b[0m\u001b[0;34m\u001b[0m\u001b[0m\n\u001b[1;32m      4\u001b[0m \u001b[0;34m\u001b[0m\u001b[0m\n\u001b[1;32m      5\u001b[0m \u001b[0;34m\u001b[0m\u001b[0m\n",
            "\u001b[0;32m<ipython-input-139-931783263ad4>\u001b[0m in \u001b[0;36m<listcomp>\u001b[0;34m(.0)\u001b[0m\n\u001b[0;32m----> 1\u001b[0;31m \u001b[0mt_geom\u001b[0m \u001b[0;34m=\u001b[0m \u001b[0;34m[\u001b[0m\u001b[0mresults\u001b[0m\u001b[0;34m[\u001b[0m\u001b[0;34m'geom'\u001b[0m\u001b[0;34m]\u001b[0m\u001b[0;34m[\u001b[0m\u001b[0mt\u001b[0m\u001b[0;34m]\u001b[0m\u001b[0;34m[\u001b[0m\u001b[0;34m'restarts'\u001b[0m\u001b[0;34m]\u001b[0m \u001b[0;32mfor\u001b[0m \u001b[0mt\u001b[0m \u001b[0;32min\u001b[0m \u001b[0mN\u001b[0m\u001b[0;34m]\u001b[0m\u001b[0;34m\u001b[0m\u001b[0;34m\u001b[0m\u001b[0m\n\u001b[0m\u001b[1;32m      2\u001b[0m \u001b[0;31m#t_arith = [results['arith'][t]['restarts'] for t in N]\u001b[0m\u001b[0;34m\u001b[0m\u001b[0;34m\u001b[0m\u001b[0;34m\u001b[0m\u001b[0m\n\u001b[1;32m      3\u001b[0m \u001b[0mt_exp\u001b[0m \u001b[0;34m=\u001b[0m \u001b[0;34m[\u001b[0m\u001b[0mresults\u001b[0m\u001b[0;34m[\u001b[0m\u001b[0;34m'exp'\u001b[0m\u001b[0;34m]\u001b[0m\u001b[0;34m[\u001b[0m\u001b[0mt\u001b[0m\u001b[0;34m]\u001b[0m\u001b[0;34m[\u001b[0m\u001b[0;34m'restarts'\u001b[0m\u001b[0;34m]\u001b[0m \u001b[0;32mfor\u001b[0m \u001b[0mt\u001b[0m \u001b[0;32min\u001b[0m \u001b[0mN\u001b[0m\u001b[0;34m]\u001b[0m\u001b[0;34m\u001b[0m\u001b[0;34m\u001b[0m\u001b[0m\n\u001b[1;32m      4\u001b[0m \u001b[0;34m\u001b[0m\u001b[0m\n\u001b[1;32m      5\u001b[0m \u001b[0;34m\u001b[0m\u001b[0m\n",
            "\u001b[0;31mKeyError\u001b[0m: 'restarts'"
          ]
        }
      ],
      "source": [
        "t_geom = [results['geom'][t]['restarts'] for t in N]\n",
        "#t_arith = [results['arith'][t]['restarts'] for t in N]\n",
        "t_exp = [results['exp'][t]['restarts'] for t in N]\n",
        "\n",
        "\n",
        "\n",
        "fig, ax = plt.subplots()\n",
        "ax.set_xlabel('Num of Queens')\n",
        "ax.set_ylabel('Restarts Required')\n",
        "ax.set_title(\"Comparing Decay Schedules for Simulated Annealing\")\n",
        "ax.plot(N, t_geom, marker=\"o\", label=\"Geometric\")\n",
        "ax.plot(N, t_exp, marker=\"o\", label=\"Exponential\")\n",
        "ax.legend()\n",
        "plt.savefig('./paper/figures/n_queens_sa_restarts.png', format='png', transparent=True)\n"
      ],
      "id": "b8cfed4c"
    },
    {
      "cell_type": "code",
      "execution_count": 151,
      "metadata": {
        "id": "226e1342",
        "colab": {
          "base_uri": "https://localhost:8080/",
          "height": 295
        },
        "outputId": "97dc7a9d-3f50-4c9d-e9c6-a2bf7049a330"
      },
      "outputs": [
        {
          "output_type": "display_data",
          "data": {
            "text/plain": [
              "<Figure size 432x288 with 1 Axes>"
            ],
            "image/png": "[encoded data removed]"
          },
          "metadata": {
            "needs_background": "light"
          }
        }
      ],
      "source": [
        "t_geom = [results['geom'][t]['time'] for t in N]\n",
        "#t_arith = [results['arith'][t]['time'] for t in N]\n",
        "t_exp = [results['exp'][t]['time'] for t in N]\n",
        "\n",
        "\n",
        "fig, ax = plt.subplots()\n",
        "ax.set_xlabel('Num of Queens')\n",
        "ax.set_ylabel('Wall Clock Time (s)')\n",
        "ax.set_title(\"Comparing Decay Schedules for Simulated Annealing\")\n",
        "#ax.plot(N, t_arith, marker=\"o\", label=\"Arithmetic\")\n",
        "ax.plot(N, t_geom, marker=\"o\", label=\"Geometric\")\n",
        "ax.plot(N, t_exp, marker=\"o\", label=\"Exponential\")\n",
        "ax.legend()\n",
        "plt.savefig('./paper/figures/n_queens_sa_time.png', format='png', transparent=True)\n"
      ],
      "id": "226e1342"
    },
    {
      "cell_type": "code",
      "execution_count": 152,
      "metadata": {
        "id": "d360cde4",
        "colab": {
          "base_uri": "https://localhost:8080/",
          "height": 295
        },
        "outputId": "e2310118-da44-4a75-d8c2-47a8578afd83"
      },
      "outputs": [
        {
          "output_type": "display_data",
          "data": {
            "text/plain": [
              "<Figure size 432x288 with 1 Axes>"
            ],
            "image/png": "[encoded data removed]"
          },
          "metadata": {
            "needs_background": "light"
          }
        }
      ],
      "source": [
        "t_geom = [results['geom'][t]['evals'] for t in N]\n",
        "# t_arith = [results['arith'][t]['evals'] for t in N]\n",
        "t_exp = [results['exp'][t]['evals'] for t in N]\n",
        "\n",
        "\n",
        "\n",
        "fig, ax = plt.subplots()\n",
        "ax.set_xlabel('Num of Queens')\n",
        "ax.set_ylabel('Num of Evaluations')\n",
        "ax.set_title(\"Comparing Decay Schedules for Simulated Annealing\")\n",
        "# ax.plot(N, t_arith, marker=\"o\", label=\"Arithmetic\")\n",
        "ax.plot(N, t_geom, marker=\"o\", label=\"Geometric\")\n",
        "ax.plot(N, t_exp, marker=\"o\", label=\"Exponential\")\n",
        "ax.legend()\n",
        "plt.savefig('./paper/figures/n_queens_sa_evals.png', format='png', transparent=True)\n"
      ],
      "id": "d360cde4"
    },
    {
      "cell_type": "markdown",
      "metadata": {
        "id": "c6c70264"
      },
      "source": [
        "# Four peaks"
      ],
      "id": "c6c70264"
    },
    {
      "cell_type": "code",
      "execution_count": 154,
      "metadata": {
        "id": "367b0784"
      },
      "outputs": [],
      "source": [
        "t_pct = 0.10\n",
        "fitness = mlrose.FourPeaks(t_pct=t_pct)\n",
        "peaks_results = {}"
      ],
      "id": "367b0784"
    },
    {
      "cell_type": "code",
      "execution_count": 155,
      "metadata": {
        "id": "466280b6"
      },
      "outputs": [],
      "source": [
        "import math\n",
        "def four_peaks_optima(n,t_pct):\n",
        "    T = math.ceil(t_pct * n)\n",
        "    optima = np.concatenate([np.ones((T+1,), dtype=np.int8), np.zeros((n-T-1,), dtype=np.int8)])\n",
        "    return fitness.evaluate(optima)\n"
      ],
      "id": "466280b6"
    },
    {
      "cell_type": "code",
      "source": [],
      "metadata": {
        "colab": {
          "base_uri": "https://localhost:8080/"
        },
        "id": "KPdUGOqjDwaL",
        "outputId": "97f4a252-182f-4ff1-91bb-858d9877cd41"
      },
      "id": "KPdUGOqjDwaL",
      "execution_count": 182,
      "outputs": [
        {
          "output_type": "execute_result",
          "data": {
            "text/plain": [
              "dict_keys([20])"
            ]
          },
          "metadata": {},
          "execution_count": 182
        }
      ]
    },
    {
      "cell_type": "code",
      "source": [
        "peaks_results = {}\n",
        "for algo in ['rhc','anneal','ga','mimic']:\n",
        "  peaks_results[algo] = {}\n"
      ],
      "metadata": {
        "id": "lbzUIdIZDyPc"
      },
      "execution_count": 192,
      "outputs": [],
      "id": "lbzUIdIZDyPc"
    },
    {
      "cell_type": "code",
      "source": [
        "N = list(range(5,20,5))\n",
        "N = [80]\n",
        "for algo in ['rhc','mimic']:\n",
        "  for n in N:\n",
        "    np.random.seed(123456)\n",
        "    bits=2\n",
        "    params = {'rhc':{'max_attempts':50,\n",
        "                  'init_state':np.random.randint(bits,size=n),\n",
        "                  'curve':True,\n",
        "                  'restarts':1000,\n",
        "                  'max_iters':5000},\n",
        "              'anneal': {'schedule':mlrose.GeomDecay(init_temp=100),\n",
        "                         'init_state':np.random.randint(bits,size=n),\n",
        "                         'curve':True,\n",
        "                         'max_attempts':500,\n",
        "                         'max_iters':5000},\n",
        "              'ga':{'curve':True,\n",
        "                    'pop_size':800,\n",
        "                    'max_attempts':50,\n",
        "                    'mutation_prob':0.2,\n",
        "                         'max_iters':5000} ,\n",
        "              'mimic':{'curve':True,\n",
        "                       'pop_size':1600,\n",
        "                       'max_attempts':100,\n",
        "                       'keep_pct':0.05,\n",
        "                         'max_iters':5000}}\n",
        "    peaks_results[algo][n] = solve_prob2(n,algo,'4peaks',args=params[algo])\n",
        "\n",
        "print(\"complete\")"
      ],
      "metadata": {
        "colab": {
          "base_uri": "https://localhost:8080/"
        },
        "id": "sHsPOq4W7gI5",
        "outputId": "30b40b80-ed65-4539-cdf9-d0e68553cff9"
      },
      "id": "sHsPOq4W7gI5",
      "execution_count": null,
      "outputs": [
        {
          "output_type": "stream",
          "name": "stdout",
          "text": [
            "Bitstring: 80 Stopping point fitness: 151\n",
            "New optimal: 26.0\n",
            "New optimal: 27.0\n",
            "New optimal: 31.0\n",
            "New optimal: 94.0\n",
            "New optimal: 102.0\n",
            "New optimal: 108.0\n",
            "New optimal: 110.0\n",
            "New optimal: 122.0\n"
          ]
        }
      ]
    },
    {
      "cell_type": "code",
      "source": [
        "## add to results dict\n",
        "N=[2]\n",
        "for algo in ['rhc','anneal','ga','mimic']:\n",
        "  for n in N:\n",
        "    peaks_results[algo][n] = solve_prob(n,algo,'4peaks')\n",
        "peaks_results"
      ],
      "metadata": {
        "id": "4x4ua80QPll-"
      },
      "id": "4x4ua80QPll-",
      "execution_count": null,
      "outputs": []
    },
    {
      "cell_type": "code",
      "source": [
        "## Learning curves\n",
        "N = list(peaks_results['anneal'].keys())\n",
        "max_n = max(N)\n",
        "curves = {}\n",
        "for algo in ['anneal','ga','mimic']:\n",
        "  max_i = min(5000,peaks_results[algo][max_n]['curve'].shape[0])\n",
        "  curves[algo] = {'x':list(range(0,max_i)),\n",
        "                   'y':np.maximum.accumulate(peaks_results[algo][max_n]['curve'][0:max_i,0]),}\n",
        "\n",
        "fig, ax = plt.subplots()\n",
        "ax.set_xlabel('Iterations')\n",
        "ax.set_ylabel('Best Value')\n",
        "ax.set_title(\"Optimal Value vs Iterations: 4 Peaks \"+str(max_n)+\" Bits\")\n",
        "# ax.plot(curves['rhc']['x'],curves['rhc']['y'], label=\"RHC\")\n",
        "ax.plot(curves['anneal']['x'],curves['anneal']['y'], label=\"anneal\")\n",
        "ax.plot(curves['ga']['x'],curves['ga']['y'], label=\"ga\")\n",
        "ax.plot(curves['mimic']['x'],curves['mimic']['y'], label=\"mimic\")\n",
        "ax.legend()\n",
        "plt.savefig('./paper/figures/peaks_learning.png', format='png', transparent=True)"
      ],
      "metadata": {
        "colab": {
          "base_uri": "https://localhost:8080/",
          "height": 295
        },
        "id": "8vOXxWCED4i-",
        "outputId": "8965944e-b52a-4b90-d33b-6c4a7b989bc4"
      },
      "id": "8vOXxWCED4i-",
      "execution_count": 264,
      "outputs": [
        {
          "output_type": "display_data",
          "data": {
            "text/plain": [
              "<Figure size 432x288 with 1 Axes>"
            ],
            "image/png": "[encoded data removed]"
          },
          "metadata": {
            "needs_background": "light"
          }
        }
      ]
    },
    {
      "cell_type": "code",
      "source": [
        "N"
      ],
      "metadata": {
        "colab": {
          "base_uri": "https://localhost:8080/"
        },
        "id": "nEsWS7_ck8iC",
        "outputId": "65fcd96c-97ba-42fa-d9cb-228e66ccfb22"
      },
      "id": "nEsWS7_ck8iC",
      "execution_count": 215,
      "outputs": [
        {
          "output_type": "execute_result",
          "data": {
            "text/plain": [
              "[5, 10, 15, 20]"
            ]
          },
          "metadata": {},
          "execution_count": 215
        }
      ]
    },
    {
      "cell_type": "code",
      "source": [],
      "metadata": {
        "colab": {
          "base_uri": "https://localhost:8080/"
        },
        "id": "gPcNN46X8M_R",
        "outputId": "657ed0d0-f286-4df2-c44b-29f7ea1cac0c"
      },
      "id": "gPcNN46X8M_R",
      "execution_count": 263,
      "outputs": [
        {
          "output_type": "execute_result",
          "data": {
            "text/plain": [
              "[20, 5, 10, 15, 60, 80]"
            ]
          },
          "metadata": {},
          "execution_count": 263
        }
      ]
    },
    {
      "cell_type": "code",
      "source": [
        "\n",
        "curves = {}\n",
        "for algo in ['anneal','ga','mimic']:\n",
        "  N = list(peaks_results[algo].keys())\n",
        "  N.sort()\n",
        "  max_n = max(N)\n",
        "  curves[algo] = {'x':[], 'y':[]}\n",
        "  for n in range(10,90):\n",
        "    curves[algo]['x'].append(n)\n",
        "    curves[algo]['y'].append(peaks_results[algo][n]['evals'])\n",
        "    \n",
        "fig, ax = plt.subplots()\n",
        "ax.set_xlabel('Inputs')\n",
        "ax.set_ylabel('Evaluations Required')\n",
        "ax.set_title(\"Evaluations vs Inputs\")\n",
        "# ax.plot(curves['rhc']['x'],curves['rhc']['y'], label=\"RHC\")\n",
        "ax.plot(curves['anneal']['x'],curves['anneal']['y'], label=\"anneal\")\n",
        "ax.plot(curves['ga']['x'],curves['ga']['y'], label=\"ga\")\n",
        "ax.plot(curves['mimic']['x'],curves['mimic']['y'], label=\"mimic\")\n",
        "ax.legend()\n",
        "plt.savefig('./paper/figures/peaks_evals.png', format='png', transparent=True)"
      ],
      "metadata": {
        "colab": {
          "base_uri": "https://localhost:8080/",
          "height": 295
        },
        "id": "nW0KR_m3gzRj",
        "outputId": "4e5ad875-08e5-44fc-c55b-da390d9a3d34"
      },
      "id": "nW0KR_m3gzRj",
      "execution_count": 226,
      "outputs": [
        {
          "output_type": "display_data",
          "data": {
            "text/plain": [
              "<Figure size 432x288 with 1 Axes>"
            ],
            "image/png": "[encoded data removed]"
          },
          "metadata": {
            "needs_background": "light"
          }
        }
      ]
    },
    {
      "cell_type": "code",
      "source": [
        "## Learning curves\n",
        "\n",
        "curves = {}\n",
        "for algo in ['anneal','ga','mimic']:\n",
        "  N = list(peaks_results[algo].keys())\n",
        "  N.sort()\n",
        "  max_n = max(N)\n",
        "  curves[algo] = {'x':[], 'y':[]}\n",
        "  for n in N:\n",
        "    curves[algo]['x'].append(n)\n",
        "    curves[algo]['y'].append(peaks_results[algo][n]['time'])\n",
        "    \n",
        "fig, ax = plt.subplots()\n",
        "ax.set_xlabel('Inputs')\n",
        "ax.set_ylabel('Time in Seconds')\n",
        "ax.set_title(\"Wall Clock Time vs Inputs\")\n",
        "# ax.plot(curves['rhc']['x'],curves['rhc']['y'], label=\"RHC\")\n",
        "ax.plot(curves['anneal']['x'],curves['anneal']['y'], label=\"anneal\")\n",
        "ax.plot(curves['ga']['x'],curves['ga']['y'], label=\"ga\")\n",
        "ax.plot(curves['mimic']['x'],curves['mimic']['y'], label=\"mimic\")\n",
        "ax.legend()\n",
        "plt.savefig('./paper/figures/peaks_time.png', format='png', transparent=True)"
      ],
      "metadata": {
        "colab": {
          "base_uri": "https://localhost:8080/",
          "height": 295
        },
        "id": "6h7QMYp8y3NM",
        "outputId": "4241f68e-1e31-4cd2-a880-a6da0c2fc36b"
      },
      "id": "6h7QMYp8y3NM",
      "execution_count": 227,
      "outputs": [
        {
          "output_type": "display_data",
          "data": {
            "text/plain": [
              "<Figure size 432x288 with 1 Axes>"
            ],
            "image/png": "[encoded data removed]"
          },
          "metadata": {
            "needs_background": "light"
          }
        }
      ]
    },
    {
      "cell_type": "code",
      "source": [
        "np.random.seed(123456)\n",
        "n = 25\n",
        "t_pct = 0.10\n",
        "fitness = mlrose.FourPeaks(t_pct=t_pct)\n",
        "max_q = four_peaks_optima(n, t_pct)\n",
        "problem = mlrose.DiscreteOpt(length = n, fitness_fn = fitness, maximize = True, max_val = 2)\n",
        "\n",
        "best_state, best_fitness, fitness_curve = mlrose.genetic_alg(problem, max_iters=50, max_attempts=10, curve=True )"
      ],
      "metadata": {
        "id": "SMdXaicULM4-"
      },
      "id": "SMdXaicULM4-",
      "execution_count": 160,
      "outputs": []
    },
    {
      "cell_type": "code",
      "source": [
        "fitness_curve"
      ],
      "metadata": {
        "colab": {
          "base_uri": "https://localhost:8080/"
        },
        "id": "TWzo1_OymWV9",
        "outputId": "dccb5104-9396-460a-9ba3-3956e293415d"
      },
      "id": "TWzo1_OymWV9",
      "execution_count": 161,
      "outputs": [
        {
          "output_type": "execute_result",
          "data": {
            "text/plain": [
              "array([[  31.,  402.],\n",
              "       [  35.,  604.],\n",
              "       [  35.,  805.],\n",
              "       [  35., 1006.],\n",
              "       [  35., 1207.],\n",
              "       [  35., 1408.],\n",
              "       [  35., 1609.],\n",
              "       [  39., 1811.],\n",
              "       [  39., 2012.],\n",
              "       [  39., 2213.],\n",
              "       [  39., 2414.],\n",
              "       [  39., 2615.],\n",
              "       [  39., 2816.],\n",
              "       [  42., 3018.],\n",
              "       [  43., 3220.],\n",
              "       [  44., 3422.],\n",
              "       [  46., 3624.],\n",
              "       [  46., 3825.],\n",
              "       [  46., 4026.],\n",
              "       [  46., 4227.],\n",
              "       [  46., 4428.],\n",
              "       [  46., 4629.],\n",
              "       [  46., 4830.],\n",
              "       [  46., 5031.],\n",
              "       [  46., 5232.],\n",
              "       [  46., 5433.],\n",
              "       [  46., 5634.]])"
            ]
          },
          "metadata": {},
          "execution_count": 161
        }
      ]
    },
    {
      "cell_type": "code",
      "source": [
        "best_state, best_fitness, fitness_curve = mlrose.genetic_alg(problem, max_iters=50, max_attempts=10, curve=True )"
      ],
      "metadata": {
        "id": "U2aa6PeimYtM"
      },
      "id": "U2aa6PeimYtM",
      "execution_count": 162,
      "outputs": []
    },
    {
      "cell_type": "code",
      "source": [
        "flip_results = {}\n",
        "for algo in ['rhc','anneal','ga','mimic']:\n",
        "  flip_results[algo] = {}"
      ],
      "metadata": {
        "id": "0Gx53o0urMjS"
      },
      "id": "0Gx53o0urMjS",
      "execution_count": 229,
      "outputs": []
    },
    {
      "cell_type": "code",
      "source": [
        "N = [10,20,30,40]\n",
        "\n",
        "algos = ['ga']\n",
        "for algo in algos:\n",
        "  print(algo)\n",
        "  for n in N:\n",
        "    np.random.seed(123456)\n",
        "    bits=2\n",
        "    params = {'rhc':{'max_attempts':500,\n",
        "                  'init_state':np.random.randint(bits,size=n),\n",
        "                  'curve':True,\n",
        "                  'restarts':1000},\n",
        "              'anneal': {'schedule':mlrose.GeomDecay(init_temp=1),\n",
        "                         'init_state':np.random.randint(bits,size=n),\n",
        "                         'curve':True,\n",
        "                         'max_attempts':100,\n",
        "                         },\n",
        "              'ga':{'curve':True,\n",
        "                    'pop_size':600,\n",
        "                    'max_attempts':500,\n",
        "                    'mutation_prob':0.05} ,\n",
        "              'mimic':{'curve':True,\n",
        "                       'pop_size':800,\n",
        "                       'max_attempts':10,\n",
        "                       'keep_pct':0.05}}\n",
        "    flip_results[algo][n] = solve_prob(n,algo,'flipflop',args=params[algo])\n",
        "\n",
        "print(\"complete\")"
      ],
      "metadata": {
        "colab": {
          "base_uri": "https://localhost:8080/",
          "height": 451
        },
        "id": "Odq1O0aWyRia",
        "outputId": "dc704f6c-0692-4c64-97da-8371346c0441"
      },
      "id": "Odq1O0aWyRia",
      "execution_count": 253,
      "outputs": [
        {
          "output_type": "stream",
          "name": "stdout",
          "text": [
            "ga\n",
            "Bitstring: 10 Stopping point fitness: 9\n",
            "ga SUCCESS 9.0\n",
            "Bitstring: 20 Stopping point fitness: 19\n"
          ]
        },
        {
          "output_type": "error",
          "ename": "KeyboardInterrupt",
          "evalue": "ignored",
          "traceback": [
            "\u001b[0;31m---------------------------------------------------------------------------\u001b[0m",
            "\u001b[0;31mKeyboardInterrupt\u001b[0m                         Traceback (most recent call last)",
            "\u001b[0;32m<ipython-input-253-40c631ad7c33>\u001b[0m in \u001b[0;36m<module>\u001b[0;34m\u001b[0m\n\u001b[1;32m     24\u001b[0m                        \u001b[0;34m'max_attempts'\u001b[0m\u001b[0;34m:\u001b[0m\u001b[0;36m10\u001b[0m\u001b[0;34m,\u001b[0m\u001b[0;34m\u001b[0m\u001b[0;34m\u001b[0m\u001b[0m\n\u001b[1;32m     25\u001b[0m                        'keep_pct':0.05}}\n\u001b[0;32m---> 26\u001b[0;31m     \u001b[0mflip_results\u001b[0m\u001b[0;34m[\u001b[0m\u001b[0malgo\u001b[0m\u001b[0;34m]\u001b[0m\u001b[0;34m[\u001b[0m\u001b[0mn\u001b[0m\u001b[0;34m]\u001b[0m \u001b[0;34m=\u001b[0m \u001b[0msolve_prob\u001b[0m\u001b[0;34m(\u001b[0m\u001b[0mn\u001b[0m\u001b[0;34m,\u001b[0m\u001b[0malgo\u001b[0m\u001b[0;34m,\u001b[0m\u001b[0;34m'flipflop'\u001b[0m\u001b[0;34m,\u001b[0m\u001b[0margs\u001b[0m\u001b[0;34m=\u001b[0m\u001b[0mparams\u001b[0m\u001b[0;34m[\u001b[0m\u001b[0malgo\u001b[0m\u001b[0;34m]\u001b[0m\u001b[0;34m)\u001b[0m\u001b[0;34m\u001b[0m\u001b[0;34m\u001b[0m\u001b[0m\n\u001b[0m\u001b[1;32m     27\u001b[0m \u001b[0;34m\u001b[0m\u001b[0m\n\u001b[1;32m     28\u001b[0m \u001b[0mprint\u001b[0m\u001b[0;34m(\u001b[0m\u001b[0;34m\"complete\"\u001b[0m\u001b[0;34m)\u001b[0m\u001b[0;34m\u001b[0m\u001b[0;34m\u001b[0m\u001b[0m\n",
            "\u001b[0;32m<ipython-input-22-b345d08a0c5c>\u001b[0m in \u001b[0;36msolve_prob\u001b[0;34m(n, algo, prob, seed, verbose, args)\u001b[0m\n\u001b[1;32m     58\u001b[0m     \u001b[0mcurve\u001b[0m \u001b[0;34m=\u001b[0m \u001b[0mnp\u001b[0m\u001b[0;34m.\u001b[0m\u001b[0mndarray\u001b[0m\u001b[0;34m(\u001b[0m\u001b[0;34m(\u001b[0m\u001b[0;36m0\u001b[0m\u001b[0;34m,\u001b[0m\u001b[0;36m2\u001b[0m\u001b[0;34m)\u001b[0m\u001b[0;34m)\u001b[0m\u001b[0;34m\u001b[0m\u001b[0;34m\u001b[0m\u001b[0m\n\u001b[1;32m     59\u001b[0m     \u001b[0mstart_time\u001b[0m \u001b[0;34m=\u001b[0m \u001b[0mtime\u001b[0m\u001b[0;34m.\u001b[0m\u001b[0mperf_counter\u001b[0m\u001b[0;34m(\u001b[0m\u001b[0;34m)\u001b[0m\u001b[0;34m\u001b[0m\u001b[0;34m\u001b[0m\u001b[0m\n\u001b[0;32m---> 60\u001b[0;31m     \u001b[0mbest_state\u001b[0m\u001b[0;34m,\u001b[0m \u001b[0mbest_fitness\u001b[0m\u001b[0;34m,\u001b[0m \u001b[0mfitness_curve\u001b[0m \u001b[0;34m=\u001b[0m \u001b[0mfn\u001b[0m\u001b[0;34m(\u001b[0m\u001b[0mproblem\u001b[0m\u001b[0;34m,\u001b[0m \u001b[0;34m**\u001b[0m\u001b[0mparams\u001b[0m\u001b[0;34m)\u001b[0m\u001b[0;34m\u001b[0m\u001b[0;34m\u001b[0m\u001b[0m\n\u001b[0m\u001b[1;32m     61\u001b[0m     \u001b[0mtotal_time\u001b[0m \u001b[0;34m=\u001b[0m \u001b[0mtime\u001b[0m\u001b[0;34m.\u001b[0m\u001b[0mperf_counter\u001b[0m\u001b[0;34m(\u001b[0m\u001b[0;34m)\u001b[0m \u001b[0;34m-\u001b[0m \u001b[0mstart_time\u001b[0m\u001b[0;34m\u001b[0m\u001b[0;34m\u001b[0m\u001b[0m\n\u001b[1;32m     62\u001b[0m \u001b[0;34m\u001b[0m\u001b[0m\n",
            "\u001b[0;32m/usr/local/lib/python3.7/dist-packages/mlrose_hiive/algorithms/ga.py\u001b[0m in \u001b[0;36mgenetic_alg\u001b[0;34m(problem, pop_size, pop_breed_percent, elite_dreg_ratio, minimum_elites, minimum_dregs, mutation_prob, max_attempts, max_iters, curve, random_state, state_fitness_callback, callback_user_info, hamming_factor, hamming_decay_factor)\u001b[0m\n\u001b[1;32m    191\u001b[0m                                                              \u001b[0mproblem\u001b[0m\u001b[0;34m=\u001b[0m\u001b[0mproblem\u001b[0m\u001b[0;34m,\u001b[0m\u001b[0;34m\u001b[0m\u001b[0;34m\u001b[0m\u001b[0m\n\u001b[1;32m    192\u001b[0m                                                              \u001b[0mhamming_factor\u001b[0m\u001b[0;34m=\u001b[0m\u001b[0mhamming_factor\u001b[0m\u001b[0;34m,\u001b[0m\u001b[0;34m\u001b[0m\u001b[0;34m\u001b[0m\u001b[0m\n\u001b[0;32m--> 193\u001b[0;31m                                                              get_hamming_distance_func=get_hamming_distance_func)\n\u001b[0m\u001b[1;32m    194\u001b[0m \u001b[0;34m\u001b[0m\u001b[0m\n\u001b[1;32m    195\u001b[0m             \u001b[0;31m# Create offspring\u001b[0m\u001b[0;34m\u001b[0m\u001b[0;34m\u001b[0m\u001b[0;34m\u001b[0m\u001b[0m\n",
            "\u001b[0;32m/usr/local/lib/python3.7/dist-packages/mlrose_hiive/algorithms/ga.py\u001b[0m in \u001b[0;36m_genetic_alg_select_parents\u001b[0;34m(pop_size, problem, get_hamming_distance_func, hamming_factor)\u001b[0m\n\u001b[1;32m     40\u001b[0m     selected = np.random.choice(pop_size,\n\u001b[1;32m     41\u001b[0m                                 \u001b[0msize\u001b[0m\u001b[0;34m=\u001b[0m\u001b[0;36m2\u001b[0m\u001b[0;34m,\u001b[0m\u001b[0;34m\u001b[0m\u001b[0;34m\u001b[0m\u001b[0m\n\u001b[0;32m---> 42\u001b[0;31m                                 p=mating_probabilities)\n\u001b[0m\u001b[1;32m     43\u001b[0m     \u001b[0mp1\u001b[0m \u001b[0;34m=\u001b[0m \u001b[0mproblem\u001b[0m\u001b[0;34m.\u001b[0m\u001b[0mget_population\u001b[0m\u001b[0;34m(\u001b[0m\u001b[0;34m)\u001b[0m\u001b[0;34m[\u001b[0m\u001b[0mselected\u001b[0m\u001b[0;34m[\u001b[0m\u001b[0;36m0\u001b[0m\u001b[0;34m]\u001b[0m\u001b[0;34m]\u001b[0m\u001b[0;34m\u001b[0m\u001b[0;34m\u001b[0m\u001b[0m\n\u001b[1;32m     44\u001b[0m     \u001b[0mp2\u001b[0m \u001b[0;34m=\u001b[0m \u001b[0mproblem\u001b[0m\u001b[0;34m.\u001b[0m\u001b[0mget_population\u001b[0m\u001b[0;34m(\u001b[0m\u001b[0;34m)\u001b[0m\u001b[0;34m[\u001b[0m\u001b[0mselected\u001b[0m\u001b[0;34m[\u001b[0m\u001b[0;36m1\u001b[0m\u001b[0;34m]\u001b[0m\u001b[0;34m]\u001b[0m\u001b[0;34m\u001b[0m\u001b[0;34m\u001b[0m\u001b[0m\n",
            "\u001b[0;31mKeyboardInterrupt\u001b[0m: "
          ]
        }
      ]
    },
    {
      "cell_type": "code",
      "source": [
        "N = list(flip_results['anneal'].keys())\n",
        "max_n = max(N)\n",
        "curves = {}\n",
        "for algo in ['rhc','anneal','ga','mimic']:\n",
        "  max_i = min(10000,flip_results[algo][max_n]['curve'].shape[0])\n",
        "  curves[algo] = {'x':list(range(0,max_i)),\n",
        "                   'y':np.maximum.accumulate(flip_results[algo][max_n]['curve'][0:max_i,0]),}\n",
        "\n",
        "fig, ax = plt.subplots()\n",
        "ax.set_xlabel('Iterations')\n",
        "ax.set_ylabel('Best Value')\n",
        "ax.set_title(\"Optimal Value vs Iterations: FlipFlop \"+str(max_n)+\" Bits\")\n",
        "ax.plot(curves['rhc']['x'],curves['rhc']['y'], label=\"RHC\")\n",
        "ax.plot(curves['anneal']['x'],curves['anneal']['y'], label=\"anneal\")\n",
        "ax.plot(curves['ga']['x'],curves['ga']['y'], label=\"ga\")\n",
        "ax.plot(curves['mimic']['x'],curves['mimic']['y'], label=\"mimic\")\n",
        "ax.legend()\n",
        "plt.savefig('./paper/figures/flip_learning.png', format='png', transparent=True)"
      ],
      "metadata": {
        "colab": {
          "base_uri": "https://localhost:8080/",
          "height": 295
        },
        "id": "8qHb6OKxrs8s",
        "outputId": "e9ec62d9-0d15-4c4a-e1f3-15c48fe63598"
      },
      "id": "8qHb6OKxrs8s",
      "execution_count": 246,
      "outputs": [
        {
          "output_type": "display_data",
          "data": {
            "text/plain": [
              "<Figure size 432x288 with 1 Axes>"
            ],
            "image/png": "[encoded data removed]"
          },
          "metadata": {
            "needs_background": "light"
          }
        }
      ]
    },
    {
      "cell_type": "code",
      "source": [
        "flip_results['rhc']"
      ],
      "metadata": {
        "colab": {
          "base_uri": "https://localhost:8080/"
        },
        "id": "JT6-UD-6yfnd",
        "outputId": "86af295d-f1ab-46c8-8aab-bdd96cf71384"
      },
      "id": "JT6-UD-6yfnd",
      "execution_count": 248,
      "outputs": [
        {
          "output_type": "execute_result",
          "data": {
            "text/plain": [
              "{50: {'time': 70.48485096700097, 'evals': 630.0, 'curve': array([[ 23.,   1.],\n",
              "         [ 23.,   2.],\n",
              "         [ 23.,   3.],\n",
              "         ...,\n",
              "         [ 44., 628.],\n",
              "         [ 44., 629.],\n",
              "         [ 44., 630.]])}}"
            ]
          },
          "metadata": {},
          "execution_count": 248
        }
      ]
    },
    {
      "cell_type": "code",
      "source": [
        "N"
      ],
      "metadata": {
        "colab": {
          "base_uri": "https://localhost:8080/"
        },
        "id": "J62VuoNNykpa",
        "outputId": "310bf93d-67ab-4928-d6db-1d4b28670f9a"
      },
      "id": "J62VuoNNykpa",
      "execution_count": 249,
      "outputs": [
        {
          "output_type": "execute_result",
          "data": {
            "text/plain": [
              "[50]"
            ]
          },
          "metadata": {},
          "execution_count": 249
        }
      ]
    },
    {
      "cell_type": "code",
      "source": [
        "## Learning curves\n",
        "curves = {}\n",
        "for algo in ['rhc','anneal','ga','mimic']:\n",
        "  curves[algo] = {'x':[], 'y':[]}\n",
        "  for n in N:\n",
        "    curves[algo]['x'].append(n)\n",
        "    curves[algo]['y'].append(flip_results[algo][n]['time'])\n",
        "    \n",
        "fig, ax = plt.subplots()\n",
        "ax.set_xlabel('Inputs')\n",
        "ax.set_ylabel('Time in Seconds')\n",
        "ax.set_title(\"Wall Clock Time vs Inputs\")\n",
        "ax.plot(curves['rhc']['x'],curves['rhc']['y'], label=\"RHC\")\n",
        "ax.plot(curves['anneal']['x'],curves['anneal']['y'], label=\"anneal\")\n",
        "ax.plot(curves['ga']['x'],curves['ga']['y'], label=\"ga\")\n",
        "ax.plot(curves['mimic']['x'],curves['mimic']['y'], label=\"mimic\")\n",
        "ax.legend()\n",
        "plt.savefig('./paper/figures/flip_time.png', format='png', transparent=True)"
      ],
      "metadata": {
        "colab": {
          "base_uri": "https://localhost:8080/",
          "height": 295
        },
        "id": "lZUxLi2RxPYe",
        "outputId": "b582f79c-9ebc-48da-9c9c-51a31a6d6608"
      },
      "id": "lZUxLi2RxPYe",
      "execution_count": 247,
      "outputs": [
        {
          "output_type": "display_data",
          "data": {
            "text/plain": [
              "<Figure size 432x288 with 1 Axes>"
            ],
            "image/png": "[encoded data removed]"
          },
          "metadata": {
            "needs_background": "light"
          }
        }
      ]
    },
    {
      "cell_type": "code",
      "source": [
        "curves = {}\n",
        "for algo in ['rhc','anneal','ga','mimic']:\n",
        "  curves[algo] = {'x':[], 'y':[]}\n",
        "  for n in N:\n",
        "    curves[algo]['x'].append(n)\n",
        "    curves[algo]['y'].append(flip_results[algo][n]['evals'])\n",
        "    \n",
        "fig, ax = plt.subplots()\n",
        "ax.set_xlabel('Inputs')\n",
        "ax.set_ylabel('Evaluations Required')\n",
        "ax.set_title(\"Evaluations vs Inputs\")\n",
        "ax.plot(curves['rhc']['x'],curves['rhc']['y'], label=\"RHC\")\n",
        "ax.plot(curves['anneal']['x'],curves['anneal']['y'], label=\"anneal\")\n",
        "ax.plot(curves['ga']['x'],curves['ga']['y'], label=\"ga\")\n",
        "ax.plot(curves['mimic']['x'],curves['mimic']['y'], label=\"mimic\")\n",
        "ax.legend()\n",
        "plt.savefig('./paper/figures/flip_evals.png', format='png', transparent=True)"
      ],
      "metadata": {
        "id": "ekL713Y5xcfv"
      },
      "id": "ekL713Y5xcfv",
      "execution_count": null,
      "outputs": []
    }
  ],
  "metadata": {
    "colab": {
      "machine_shape": "hm",
      "provenance": [],
      "collapsed_sections": []
    },
    "kernelspec": {
      "display_name": "Python 3",
      "name": "python3"
    },
    "language_info": {
      "name": "python"
    }
  },
  "nbformat": 4,
  "nbformat_minor": 5
}