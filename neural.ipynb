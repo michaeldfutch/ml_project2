{
  "nbformat": 4,
  "nbformat_minor": 0,
  "metadata": {
    "colab": {
      "provenance": [],
      "collapsed_sections": [],
      "machine_shape": "hm"
    },
    "kernelspec": {
      "name": "python3",
      "display_name": "Python 3"
    },
    "language_info": {
      "name": "python"
    }
  },
  "cells": [
    {
      "cell_type": "code",
      "execution_count": 20,
      "metadata": {
        "colab": {
          "base_uri": "https://localhost:8080/"
        },
        "id": "JJ1OK4NpLpMU",
        "outputId": "7a2776d1-d83d-43d8-da05-8e6a774bf658"
      },
      "outputs": [
        {
          "output_type": "stream",
          "name": "stdout",
          "text": [
            "Drive already mounted at /content/gdrive/; to attempt to forcibly remount, call drive.mount(\"/content/gdrive/\", force_remount=True).\n",
            "/content/gdrive/Othercomputers/My MacBook Pro (1)/project2\n",
            "Looking in indexes: https://pypi.org/simple, https://us-python.pkg.dev/colab-wheels/public/simple/\n",
            "Requirement already satisfied: mlrose_hiive in /usr/local/lib/python3.7/dist-packages (2.2.4)\n",
            "Requirement already satisfied: pandas in /usr/local/lib/python3.7/dist-packages (from mlrose_hiive) (1.3.5)\n",
            "Requirement already satisfied: joblib in /usr/local/lib/python3.7/dist-packages (from mlrose_hiive) (1.2.0)\n",
            "Requirement already satisfied: networkx in /usr/local/lib/python3.7/dist-packages (from mlrose_hiive) (2.6.3)\n",
            "Requirement already satisfied: scipy in /usr/local/lib/python3.7/dist-packages (from mlrose_hiive) (1.7.3)\n",
            "Requirement already satisfied: numpy in /usr/local/lib/python3.7/dist-packages (from mlrose_hiive) (1.21.6)\n",
            "Requirement already satisfied: scikit-learn in /usr/local/lib/python3.7/dist-packages (from mlrose_hiive) (1.0.2)\n",
            "Requirement already satisfied: pytz>=2017.3 in /usr/local/lib/python3.7/dist-packages (from pandas->mlrose_hiive) (2022.4)\n",
            "Requirement already satisfied: python-dateutil>=2.7.3 in /usr/local/lib/python3.7/dist-packages (from pandas->mlrose_hiive) (2.8.2)\n",
            "Requirement already satisfied: six>=1.5 in /usr/local/lib/python3.7/dist-packages (from python-dateutil>=2.7.3->pandas->mlrose_hiive) (1.15.0)\n",
            "Requirement already satisfied: threadpoolctl>=2.0.0 in /usr/local/lib/python3.7/dist-packages (from scikit-learn->mlrose_hiive) (3.1.0)\n"
          ]
        }
      ],
      "source": [
        "from google.colab import drive\n",
        "drive.mount('/content/gdrive/')\n",
        "%cd '/content/gdrive/Othercomputers/My MacBook Pro (1)/project2/'\n",
        "%pip install mlrose_hiive\n",
        "import mlrose_hiive as mlrose\n",
        "import numpy as np\n",
        "import time\n",
        "from math import factorial\n",
        "import matplotlib.pyplot as plt\n",
        "import seaborn as sns\n",
        "from scipy import special"
      ]
    },
    {
      "cell_type": "code",
      "source": [
        "## Neural network\n",
        "import time\n",
        "import pandas as pd\n",
        "import numpy as np\n",
        "from datetime import datetime\n",
        "from sklearn.model_selection import train_test_split, cross_val_score\n",
        "from sklearn.metrics import mean_squared_error, r2_score, precision_score, accuracy_score, recall_score, roc_auc_score\n",
        "import pickle\n",
        "import matplotlib.pyplot as plt"
      ],
      "metadata": {
        "id": "logy43zEzswT"
      },
      "execution_count": 21,
      "outputs": []
    },
    {
      "cell_type": "code",
      "source": [
        "FILE = './data/healthcare-dataset-stroke-data.csv'\n",
        "\n",
        "dat = pd.read_csv(FILE)\n",
        "# convert categorical to dummies\n",
        "cats = ['gender','ever_married','work_type','Residence_type','smoking_status']\n",
        "for v in cats:\n",
        "    dat = pd.concat([dat,pd.get_dummies(dat[v], prefix=v)], axis = 1)\n",
        "                     \n",
        "x_cols = [\n",
        " 'age',\n",
        " 'hypertension',\n",
        " 'heart_disease',\n",
        " 'avg_glucose_level',\n",
        " 'bmi',\n",
        " 'gender_Female',\n",
        " 'gender_Other',\n",
        " 'ever_married_Yes',\n",
        " 'work_type_Govt_job',\n",
        " 'work_type_Private',\n",
        " 'work_type_Self-employed',\n",
        " 'work_type_children',\n",
        " 'Residence_type_Urban',\n",
        " 'smoking_status_formerly smoked',\n",
        " 'smoking_status_never smoked',\n",
        " 'smoking_status_smokes']\n",
        "\n",
        "X_full = dat[x_cols].to_numpy()\n",
        "y_full = np.array(dat.stroke)\n",
        "\n",
        "from sklearn.experimental import enable_iterative_imputer\n",
        "from sklearn.impute import IterativeImputer\n",
        "from sklearn.model_selection import train_test_split\n",
        "from sklearn.preprocessing import MinMaxScaler, OneHotEncoder\n",
        "\n",
        "### Holdout validation data\n",
        "X_train, X_test, y_train, y_test = train_test_split(X_full, y_full, \\\n",
        "                                                    test_size = 0.2, random_state = 3)\n",
        "\n",
        "\n",
        "## Impute missing values \n",
        "imp = IterativeImputer(max_iter=10, random_state=0)\n",
        "imp.fit(X_train)\n",
        "IterativeImputer(random_state=0)\n",
        "X_train = imp.transform(X_train)\n",
        "X_test = imp.transform(X_test)\n",
        "\n",
        "# Normalize feature data\n",
        "scaler = MinMaxScaler()\n",
        "\n",
        "\n",
        "X_train_scaled = scaler.fit_transform(X_train)\n",
        "X_test_scaled = scaler.transform(X_test)\n"
      ],
      "metadata": {
        "id": "qW85wGhh9mr9"
      },
      "execution_count": 22,
      "outputs": []
    },
    {
      "cell_type": "code",
      "source": [
        "# gradient descent\n",
        "\n",
        "common_params = {'hidden_nodes':[100,100,100],'activation':'relu','curve':True,'random_state':0}\n",
        "\n",
        "params = {'gradient_descent':{'algorithm':'gradient_descent','max_iters':5000,'learning_rate':.0001,'early_stopping': True,'max_attempts':1000},\n",
        "          'random_hill_climb':{'algorithm':'random_hill_climb','max_iters':100,'restarts':10,'early_stopping':True},}\n",
        "\n",
        "nn = mlrose.NeuralNetwork(**common_params, **params['gradient_descent'])\n",
        "start_time = time.perf_counter()\n",
        "nn.fit(X_train_scaled, y_train)\n",
        "nn_time = time.perf_counter() - start_time\n"
      ],
      "metadata": {
        "id": "oFADr4cA90hq"
      },
      "execution_count": 72,
      "outputs": []
    },
    {
      "cell_type": "code",
      "source": [
        "from sklearn.metrics import accuracy_score\n",
        "\n",
        "# Predict labels for train set and assess accuracy\n",
        "y_train_pred = nn.predict(X_train_scaled)\n",
        "y_train_accuracy = accuracy_score(y_train, y_train_pred)\n",
        "print(y_train_accuracy)\n",
        "\n",
        "\n",
        "# Predict labels for test set and assess accuracy\n",
        "y_test_pred = nn.predict(X_test_scaled)\n",
        "y_test_accuracy = accuracy_score(y_test, y_test_pred)\n",
        "print(y_test_accuracy)\n",
        "\n",
        "print(\"Avg pred:\", np.mean(y_train_pred), np.mean(y_test_pred))\n",
        "\n"
      ],
      "metadata": {
        "colab": {
          "base_uri": "https://localhost:8080/"
        },
        "id": "IaK7rlaB-UwA",
        "outputId": "c5d4abd5-454f-46f3-d7b5-6bfd4676a3c7"
      },
      "execution_count": 73,
      "outputs": [
        {
          "output_type": "stream",
          "name": "stdout",
          "text": [
            "0.9500978473581213\n",
            "0.952054794520548\n",
            "Avg pred: 0.0 0.003913894324853229\n"
          ]
        }
      ]
    },
    {
      "cell_type": "code",
      "source": [
        "recall_score(y_test, y_test_pred), precision_score(y_test, y_test_pred), roc_auc_score(y_test, y_test_pred)"
      ],
      "metadata": {
        "colab": {
          "base_uri": "https://localhost:8080/"
        },
        "id": "Dkcl4V05-Vkp",
        "outputId": "9caf9647-4f81-4b21-affd-8fa4a06f1a47"
      },
      "execution_count": 74,
      "outputs": [
        {
          "output_type": "execute_result",
          "data": {
            "text/plain": [
              "(0.0, 0.0, 0.49795291709314227)"
            ]
          },
          "metadata": {},
          "execution_count": 74
        }
      ]
    },
    {
      "cell_type": "code",
      "source": [
        "# hill climb\n",
        "\n",
        "common_params = {'hidden_nodes':[100,100,100],'activation':'relu','curve':True,'random_state':0}\n",
        "\n",
        "params['random_hill_climb'] = {'algorithm':'random_hill_climb','max_iters':1000,'restarts':1000,'early_stopping':True,'max_attempts':100}\n",
        "\n",
        "rhc = mlrose.NeuralNetwork(**common_params, **params['random_hill_climb'])\n",
        "start_time = time.perf_counter()\n",
        "rhc.fit(X_train_scaled, y_train)\n",
        "rhc_time = time.perf_counter() - start_time\n",
        "\n",
        "# Predict labels for train set and assess accuracy\n",
        "y_train_pred = rhc.predict(X_train_scaled)\n",
        "y_train_accuracy = accuracy_score(y_train, y_train_pred)\n",
        "print(y_train_accuracy)\n",
        "\n",
        "\n",
        "# Predict labels for test set and assess accuracy\n",
        "y_test_pred = rhc.predict(X_test_scaled)\n",
        "y_test_accuracy = accuracy_score(y_test, y_test_pred)\n",
        "print(y_test_accuracy)\n",
        "\n",
        "print(\"Avg pred:\", np.mean(y_train_pred), np.mean(y_test_pred))\n"
      ],
      "metadata": {
        "colab": {
          "base_uri": "https://localhost:8080/",
          "height": 416
        },
        "id": "3L0oCCx9BcPi",
        "outputId": "fb1a555c-da56-4c97-e006-feaca164600b"
      },
      "execution_count": 75,
      "outputs": [
        {
          "output_type": "error",
          "ename": "KeyboardInterrupt",
          "evalue": "ignored",
          "traceback": [
            "\u001b[0;31m---------------------------------------------------------------------------\u001b[0m",
            "\u001b[0;31mKeyboardInterrupt\u001b[0m                         Traceback (most recent call last)",
            "\u001b[0;32m<ipython-input-75-4d331c98f640>\u001b[0m in \u001b[0;36m<module>\u001b[0;34m\u001b[0m\n\u001b[1;32m      7\u001b[0m \u001b[0mrhc\u001b[0m \u001b[0;34m=\u001b[0m \u001b[0mmlrose\u001b[0m\u001b[0;34m.\u001b[0m\u001b[0mNeuralNetwork\u001b[0m\u001b[0;34m(\u001b[0m\u001b[0;34m**\u001b[0m\u001b[0mcommon_params\u001b[0m\u001b[0;34m,\u001b[0m \u001b[0;34m**\u001b[0m\u001b[0mparams\u001b[0m\u001b[0;34m[\u001b[0m\u001b[0;34m'random_hill_climb'\u001b[0m\u001b[0;34m]\u001b[0m\u001b[0;34m)\u001b[0m\u001b[0;34m\u001b[0m\u001b[0;34m\u001b[0m\u001b[0m\n\u001b[1;32m      8\u001b[0m \u001b[0mstart_time\u001b[0m \u001b[0;34m=\u001b[0m \u001b[0mtime\u001b[0m\u001b[0;34m.\u001b[0m\u001b[0mperf_counter\u001b[0m\u001b[0;34m(\u001b[0m\u001b[0;34m)\u001b[0m\u001b[0;34m\u001b[0m\u001b[0;34m\u001b[0m\u001b[0m\n\u001b[0;32m----> 9\u001b[0;31m \u001b[0mrhc\u001b[0m\u001b[0;34m.\u001b[0m\u001b[0mfit\u001b[0m\u001b[0;34m(\u001b[0m\u001b[0mX_train_scaled\u001b[0m\u001b[0;34m,\u001b[0m \u001b[0my_train\u001b[0m\u001b[0;34m)\u001b[0m\u001b[0;34m\u001b[0m\u001b[0;34m\u001b[0m\u001b[0m\n\u001b[0m\u001b[1;32m     10\u001b[0m \u001b[0mrhc_time\u001b[0m \u001b[0;34m=\u001b[0m \u001b[0mtime\u001b[0m\u001b[0;34m.\u001b[0m\u001b[0mperf_counter\u001b[0m\u001b[0;34m(\u001b[0m\u001b[0;34m)\u001b[0m \u001b[0;34m-\u001b[0m \u001b[0mstart_time\u001b[0m\u001b[0;34m\u001b[0m\u001b[0;34m\u001b[0m\u001b[0m\n\u001b[1;32m     11\u001b[0m \u001b[0;34m\u001b[0m\u001b[0m\n",
            "\u001b[0;32m/usr/local/lib/python3.7/dist-packages/mlrose_hiive/neural/_nn_core.py\u001b[0m in \u001b[0;36mfit\u001b[0;34m(self, X, y, init_weights)\u001b[0m\n\u001b[1;32m    151\u001b[0m \u001b[0;34m\u001b[0m\u001b[0m\n\u001b[1;32m    152\u001b[0m         \u001b[0;32mif\u001b[0m \u001b[0mself\u001b[0m\u001b[0;34m.\u001b[0m\u001b[0malgorithm\u001b[0m \u001b[0;34m==\u001b[0m \u001b[0;34m'random_hill_climb'\u001b[0m\u001b[0;34m:\u001b[0m\u001b[0;34m\u001b[0m\u001b[0;34m\u001b[0m\u001b[0m\n\u001b[0;32m--> 153\u001b[0;31m             \u001b[0mfitness_curve\u001b[0m\u001b[0;34m,\u001b[0m \u001b[0mfitted_weights\u001b[0m\u001b[0;34m,\u001b[0m \u001b[0mloss\u001b[0m \u001b[0;34m=\u001b[0m \u001b[0mself\u001b[0m\u001b[0;34m.\u001b[0m\u001b[0m__run_with_rhc\u001b[0m\u001b[0;34m(\u001b[0m\u001b[0minit_weights\u001b[0m\u001b[0;34m,\u001b[0m \u001b[0mnum_nodes\u001b[0m\u001b[0;34m,\u001b[0m \u001b[0mproblem\u001b[0m\u001b[0;34m)\u001b[0m\u001b[0;34m\u001b[0m\u001b[0;34m\u001b[0m\u001b[0m\n\u001b[0m\u001b[1;32m    154\u001b[0m \u001b[0;34m\u001b[0m\u001b[0m\n\u001b[1;32m    155\u001b[0m         \u001b[0;32melif\u001b[0m \u001b[0mself\u001b[0m\u001b[0;34m.\u001b[0m\u001b[0malgorithm\u001b[0m \u001b[0;34m==\u001b[0m \u001b[0;34m'simulated_annealing'\u001b[0m\u001b[0;34m:\u001b[0m\u001b[0;34m\u001b[0m\u001b[0;34m\u001b[0m\u001b[0m\n",
            "\u001b[0;32m/usr/local/lib/python3.7/dist-packages/mlrose_hiive/neural/_nn_core.py\u001b[0m in \u001b[0;36m__run_with_rhc\u001b[0;34m(self, init_weights, num_nodes, problem)\u001b[0m\n\u001b[1;32m    247\u001b[0m                                       \u001b[0mmax_iters\u001b[0m\u001b[0;34m=\u001b[0m\u001b[0mself\u001b[0m\u001b[0;34m.\u001b[0m\u001b[0mmax_iters\u001b[0m\u001b[0;34m,\u001b[0m\u001b[0;34m\u001b[0m\u001b[0;34m\u001b[0m\u001b[0m\n\u001b[1;32m    248\u001b[0m                                       \u001b[0mrestarts\u001b[0m\u001b[0;34m=\u001b[0m\u001b[0;36m0\u001b[0m\u001b[0;34m,\u001b[0m \u001b[0minit_state\u001b[0m\u001b[0;34m=\u001b[0m\u001b[0minit_weights\u001b[0m\u001b[0;34m,\u001b[0m\u001b[0;34m\u001b[0m\u001b[0;34m\u001b[0m\u001b[0m\n\u001b[0;32m--> 249\u001b[0;31m                                       curve=self.curve)\n\u001b[0m\u001b[1;32m    250\u001b[0m             \u001b[0;32melse\u001b[0m\u001b[0;34m:\u001b[0m\u001b[0;34m\u001b[0m\u001b[0;34m\u001b[0m\u001b[0m\n\u001b[1;32m    251\u001b[0m                 current_weights, current_loss, _ = random_hill_climb(\n",
            "\u001b[0;32m/usr/local/lib/python3.7/dist-packages/mlrose_hiive/algorithms/rhc.py\u001b[0m in \u001b[0;36mrandom_hill_climb\u001b[0;34m(problem, max_attempts, max_iters, restarts, init_state, curve, random_state, state_fitness_callback, callback_user_info)\u001b[0m\n\u001b[1;32m    119\u001b[0m             \u001b[0;31m# Find random neighbor and evaluate fitness\u001b[0m\u001b[0;34m\u001b[0m\u001b[0;34m\u001b[0m\u001b[0;34m\u001b[0m\u001b[0m\n\u001b[1;32m    120\u001b[0m             \u001b[0mnext_state\u001b[0m \u001b[0;34m=\u001b[0m \u001b[0mproblem\u001b[0m\u001b[0;34m.\u001b[0m\u001b[0mrandom_neighbor\u001b[0m\u001b[0;34m(\u001b[0m\u001b[0;34m)\u001b[0m\u001b[0;34m\u001b[0m\u001b[0;34m\u001b[0m\u001b[0m\n\u001b[0;32m--> 121\u001b[0;31m             \u001b[0mnext_fitness\u001b[0m \u001b[0;34m=\u001b[0m \u001b[0mproblem\u001b[0m\u001b[0;34m.\u001b[0m\u001b[0meval_fitness\u001b[0m\u001b[0;34m(\u001b[0m\u001b[0mnext_state\u001b[0m\u001b[0;34m)\u001b[0m\u001b[0;34m\u001b[0m\u001b[0;34m\u001b[0m\u001b[0m\n\u001b[0m\u001b[1;32m    122\u001b[0m \u001b[0;34m\u001b[0m\u001b[0m\n\u001b[1;32m    123\u001b[0m             \u001b[0;31m# If best neighbor is an improvement,\u001b[0m\u001b[0;34m\u001b[0m\u001b[0;34m\u001b[0m\u001b[0;34m\u001b[0m\u001b[0m\n",
            "\u001b[0;32m/usr/local/lib/python3.7/dist-packages/mlrose_hiive/opt_probs/_opt_prob.py\u001b[0m in \u001b[0;36meval_fitness\u001b[0;34m(self, state)\u001b[0m\n\u001b[1;32m     96\u001b[0m             \u001b[0;32mraise\u001b[0m \u001b[0mException\u001b[0m\u001b[0;34m(\u001b[0m\u001b[0;34m\"state length must match problem length\"\u001b[0m\u001b[0;34m)\u001b[0m\u001b[0;34m\u001b[0m\u001b[0;34m\u001b[0m\u001b[0m\n\u001b[1;32m     97\u001b[0m \u001b[0;34m\u001b[0m\u001b[0m\n\u001b[0;32m---> 98\u001b[0;31m         \u001b[0mfitness\u001b[0m \u001b[0;34m=\u001b[0m \u001b[0mself\u001b[0m\u001b[0;34m.\u001b[0m\u001b[0mmaximize\u001b[0m\u001b[0;34m*\u001b[0m\u001b[0mself\u001b[0m\u001b[0;34m.\u001b[0m\u001b[0mfitness_fn\u001b[0m\u001b[0;34m.\u001b[0m\u001b[0mevaluate\u001b[0m\u001b[0;34m(\u001b[0m\u001b[0mstate\u001b[0m\u001b[0;34m)\u001b[0m\u001b[0;34m\u001b[0m\u001b[0;34m\u001b[0m\u001b[0m\n\u001b[0m\u001b[1;32m     99\u001b[0m         \u001b[0;31m# increment fevals for the current iteration\u001b[0m\u001b[0;34m\u001b[0m\u001b[0;34m\u001b[0m\u001b[0;34m\u001b[0m\u001b[0m\n\u001b[1;32m    100\u001b[0m         \u001b[0mself\u001b[0m\u001b[0;34m.\u001b[0m\u001b[0mfitness_evaluations\u001b[0m \u001b[0;34m+=\u001b[0m \u001b[0;36m1\u001b[0m\u001b[0;34m\u001b[0m\u001b[0;34m\u001b[0m\u001b[0m\n",
            "\u001b[0;32m/usr/local/lib/python3.7/dist-packages/mlrose_hiive/neural/fitness/network_weights.py\u001b[0m in \u001b[0;36mevaluate\u001b[0;34m(self, state)\u001b[0m\n\u001b[1;32m    135\u001b[0m         \u001b[0;32mfor\u001b[0m \u001b[0mi\u001b[0m \u001b[0;32min\u001b[0m \u001b[0mrange\u001b[0m\u001b[0;34m(\u001b[0m\u001b[0mlen\u001b[0m\u001b[0;34m(\u001b[0m\u001b[0mself\u001b[0m\u001b[0;34m.\u001b[0m\u001b[0mweights\u001b[0m\u001b[0;34m)\u001b[0m\u001b[0;34m)\u001b[0m\u001b[0;34m:\u001b[0m\u001b[0;34m\u001b[0m\u001b[0;34m\u001b[0m\u001b[0m\n\u001b[1;32m    136\u001b[0m             \u001b[0;31m# Multiple inputs by weights\u001b[0m\u001b[0;34m\u001b[0m\u001b[0;34m\u001b[0m\u001b[0;34m\u001b[0m\u001b[0m\n\u001b[0;32m--> 137\u001b[0;31m             \u001b[0moutputs\u001b[0m \u001b[0;34m=\u001b[0m \u001b[0mnp\u001b[0m\u001b[0;34m.\u001b[0m\u001b[0mdot\u001b[0m\u001b[0;34m(\u001b[0m\u001b[0minputs\u001b[0m\u001b[0;34m,\u001b[0m \u001b[0mself\u001b[0m\u001b[0;34m.\u001b[0m\u001b[0mweights\u001b[0m\u001b[0;34m[\u001b[0m\u001b[0mi\u001b[0m\u001b[0;34m]\u001b[0m\u001b[0;34m)\u001b[0m\u001b[0;34m\u001b[0m\u001b[0;34m\u001b[0m\u001b[0m\n\u001b[0m\u001b[1;32m    138\u001b[0m             \u001b[0mself\u001b[0m\u001b[0;34m.\u001b[0m\u001b[0minputs_list\u001b[0m\u001b[0;34m.\u001b[0m\u001b[0mappend\u001b[0m\u001b[0;34m(\u001b[0m\u001b[0minputs\u001b[0m\u001b[0;34m)\u001b[0m\u001b[0;34m\u001b[0m\u001b[0;34m\u001b[0m\u001b[0m\n\u001b[1;32m    139\u001b[0m \u001b[0;34m\u001b[0m\u001b[0m\n",
            "\u001b[0;32m<__array_function__ internals>\u001b[0m in \u001b[0;36mdot\u001b[0;34m(*args, **kwargs)\u001b[0m\n",
            "\u001b[0;31mKeyboardInterrupt\u001b[0m: "
          ]
        }
      ]
    },
    {
      "cell_type": "code",
      "source": [
        "recall_score(y_test, y_test_pred), precision_score(y_test, y_test_pred), roc_auc_score(y_test, y_test_pred)"
      ],
      "metadata": {
        "id": "A_NuP2WIM9G3",
        "colab": {
          "base_uri": "https://localhost:8080/"
        },
        "outputId": "cb568780-b49b-472c-926e-9b5eed3ae070"
      },
      "execution_count": 27,
      "outputs": [
        {
          "output_type": "execute_result",
          "data": {
            "text/plain": [
              "(0.15555555555555556, 0.04895104895104895, 0.508176958944615)"
            ]
          },
          "metadata": {},
          "execution_count": 27
        }
      ]
    },
    {
      "cell_type": "code",
      "source": [
        "# anneal \n",
        "\n",
        "common_params = {'hidden_nodes':[100,100,100],'activation':'relu','curve':True,'random_state':0}\n",
        "\n",
        "params['simulated_annealing'] = {'algorithm':'simulated_annealing','max_iters':1000,'early_stopping':True,'max_attempts':5000,'schedule':mlrose.GeomDecay(init_temp=100)}\n",
        "\n",
        "anneal = mlrose.NeuralNetwork(**common_params, **params['simulated_annealing'])\n",
        "start_time = time.perf_counter()\n",
        "anneal.fit(X_train_scaled, y_train)\n",
        "anneal_time = time.perf_counter() - start_time\n",
        "\n",
        "# Predict labels for train set and assess accuracy\n",
        "y_train_pred = anneal.predict(X_train_scaled)\n",
        "y_train_accuracy = accuracy_score(y_train, y_train_pred)\n",
        "print(y_train_accuracy)\n",
        "\n",
        "\n",
        "# Predict labels for test set and assess accuracy\n",
        "y_test_pred = anneal.predict(X_test_scaled)\n",
        "y_test_accuracy = accuracy_score(y_test, y_test_pred)\n",
        "print(y_test_accuracy)\n",
        "\n",
        "print(\"Avg pred:\", np.mean(y_train_pred), np.mean(y_test_pred))"
      ],
      "metadata": {
        "id": "1OP1gFbMJNzk",
        "colab": {
          "base_uri": "https://localhost:8080/"
        },
        "outputId": "40d71cb4-7fb4-4a5f-96d8-2479dc029f3a"
      },
      "execution_count": 62,
      "outputs": [
        {
          "output_type": "stream",
          "name": "stdout",
          "text": [
            "0.34711350293542076\n",
            "0.31604696673189825\n",
            "Avg pred: 0.6685420743639922 0.6986301369863014\n"
          ]
        }
      ]
    },
    {
      "cell_type": "code",
      "source": [
        "recall_score(y_test, y_test_pred), precision_score(y_test, y_test_pred), roc_auc_score(y_test, y_test_pred)"
      ],
      "metadata": {
        "colab": {
          "base_uri": "https://localhost:8080/"
        },
        "id": "NSlwuFKZr7tA",
        "outputId": "869f3bcd-b536-4d52-dfb3-b6ffc6f274e9"
      },
      "execution_count": 63,
      "outputs": [
        {
          "output_type": "execute_result",
          "data": {
            "text/plain": [
              "(0.6666666666666666, 0.04201680672268908, 0.4832821562606619)"
            ]
          },
          "metadata": {},
          "execution_count": 63
        }
      ]
    },
    {
      "cell_type": "code",
      "source": [
        "# ga \n",
        "\n",
        "common_params = {'hidden_nodes':[100,100,100],'activation':'relu','curve':True,'random_state':0}\n",
        "\n",
        "params['genetic_alg']={'algorithm':'genetic_alg','max_iters':1000,'early_stopping':True,'max_attempts':50,'pop_size':400}\n",
        "\n",
        "ga = mlrose.NeuralNetwork(**common_params, **params['genetic_alg'])\n",
        "start_time = time.perf_counter()\n",
        "ga.fit(X_train_scaled, y_train)\n",
        "ga_time = time.perf_counter() - start_time\n",
        "# Predict labels for train set and assess accuracy\n",
        "y_train_pred = ga.predict(X_train_scaled)\n",
        "y_train_accuracy = accuracy_score(y_train, y_train_pred)\n",
        "print(y_train_accuracy)\n",
        "\n",
        "\n",
        "# Predict labels for test set and assess accuracy\n",
        "y_test_pred = ga.predict(X_test_scaled)\n",
        "y_test_accuracy = accuracy_score(y_test, y_test_pred)\n",
        "print(y_test_accuracy)\n",
        "\n",
        "print(\"Avg pred:\", np.mean(y_train_pred), np.mean(y_test_pred))"
      ],
      "metadata": {
        "id": "JN1fBP11Ku_b",
        "colab": {
          "base_uri": "https://localhost:8080/"
        },
        "outputId": "6d278c9f-d704-4a31-b69e-9ed27d3781f6"
      },
      "execution_count": 30,
      "outputs": [
        {
          "output_type": "stream",
          "name": "stdout",
          "text": [
            "0.9508317025440313\n",
            "0.9559686888454012\n",
            "Avg pred: 0.001223091976516634 0.0019569471624266144\n"
          ]
        }
      ]
    },
    {
      "cell_type": "code",
      "source": [
        "nn_time, rhc_time, anneal_time, ga_time"
      ],
      "metadata": {
        "colab": {
          "base_uri": "https://localhost:8080/"
        },
        "id": "U1aeKN04Vnx1",
        "outputId": "03d8b40b-2b55-45ec-a904-6dd95096fa92"
      },
      "execution_count": 64,
      "outputs": [
        {
          "output_type": "execute_result",
          "data": {
            "text/plain": [
              "(491.49806985099895, 676.7967295959988, 81.05176983099955, 1150.6308311690009)"
            ]
          },
          "metadata": {},
          "execution_count": 64
        }
      ]
    },
    {
      "cell_type": "code",
      "source": [
        "fig, ax = plt.subplots()\n",
        "ax.set_xlabel('Iterations')\n",
        "ax.set_ylabel('Loss')\n",
        "ax.set_title(\"Neural Network Loss with Gradient Descent\")\n",
        "ax.plot(list(range(0,100)),-nn.fitness_curve[0:100], label=\"GD\")\n",
        "\n",
        "ax.legend()\n",
        "plt.savefig('./paper/figures/nn_gd.png', format='png', transparent=True)"
      ],
      "metadata": {
        "colab": {
          "base_uri": "https://localhost:8080/",
          "height": 295
        },
        "id": "pnE9ZFZCSRTI",
        "outputId": "c6c7ace8-7c87-4ff9-aa25-9e1e6a15a352"
      },
      "execution_count": 65,
      "outputs": [
        {
          "output_type": "display_data",
          "data": {
            "text/plain": [
              "<Figure size 432x288 with 1 Axes>"
            ],
            "image/png": "[encoded data removed]"
          },
          "metadata": {
            "needs_background": "light"
          }
        }
      ]
    },
    {
      "cell_type": "code",
      "source": [
        "fig, ax = plt.subplots()\n",
        "ax.set_xlabel('Iterations')\n",
        "ax.set_ylabel('Loss')\n",
        "ax.set_title(\"Neural Network Loss with RHC\")\n",
        "ax.plot( rhc.fitness_curve[:,1],rhc.fitness_curve[:,0], label=\"RHC\")\n",
        "\n",
        "ax.legend()\n",
        "plt.savefig('./paper/figures/nn_rhc.png', format='png', transparent=True)"
      ],
      "metadata": {
        "colab": {
          "base_uri": "https://localhost:8080/",
          "height": 295
        },
        "id": "FU0rKaslZka5",
        "outputId": "28b441a2-0f0e-4ec7-f08b-54f48c7aa3c0"
      },
      "execution_count": 58,
      "outputs": [
        {
          "output_type": "display_data",
          "data": {
            "text/plain": [
              "<Figure size 432x288 with 1 Axes>"
            ],
            "image/png": "[encoded data removed]"
          },
          "metadata": {
            "needs_background": "light"
          }
        }
      ]
    },
    {
      "cell_type": "code",
      "source": [
        "fig, ax = plt.subplots()\n",
        "ax.set_xlabel('Iterations')\n",
        "ax.set_ylabel('Loss')\n",
        "ax.set_title(\"Neural Network Loss with SA\")\n",
        "ax.plot( anneal.fitness_curve[:,1],anneal.fitness_curve[:,0], label=\"SA\")\n",
        "\n",
        "ax.legend()\n",
        "plt.savefig('./paper/figures/nn_sa.png', format='png', transparent=True)"
      ],
      "metadata": {
        "colab": {
          "base_uri": "https://localhost:8080/",
          "height": 295
        },
        "id": "gz_VS7WWY_Lx",
        "outputId": "74495e14-5993-48ef-c15a-7b0786648deb"
      },
      "execution_count": 59,
      "outputs": [
        {
          "output_type": "display_data",
          "data": {
            "text/plain": [
              "<Figure size 432x288 with 1 Axes>"
            ],
            "image/png": "[encoded data removed]"
          },
          "metadata": {
            "needs_background": "light"
          }
        }
      ]
    },
    {
      "cell_type": "code",
      "source": [
        "fig, ax = plt.subplots()\n",
        "ax.set_xlabel('Iterations')\n",
        "ax.set_ylabel('Loss')\n",
        "ax.set_title(\"Neural Network Loss with GA\")\n",
        "ax.plot( ga.fitness_curve[:,1],ga.fitness_curve[:,0], label=\"GA\")\n",
        "\n",
        "ax.legend()\n",
        "plt.savefig('./paper/figures/nn_ga.png', format='png', transparent=True)"
      ],
      "metadata": {
        "colab": {
          "base_uri": "https://localhost:8080/",
          "height": 295
        },
        "id": "CI6NZzRlZzy6",
        "outputId": "eeb60e44-a5de-4c87-b135-5f1f68a8b5bc"
      },
      "execution_count": 60,
      "outputs": [
        {
          "output_type": "display_data",
          "data": {
            "text/plain": [
              "<Figure size 432x288 with 1 Axes>"
            ],
            "image/png": "[encoded data removed]"
          },
          "metadata": {
            "needs_background": "light"
          }
        }
      ]
    },
    {
      "cell_type": "code",
      "source": [],
      "metadata": {
        "id": "vkuV8NUnZ14z"
      },
      "execution_count": null,
      "outputs": []
    }
  ]
}